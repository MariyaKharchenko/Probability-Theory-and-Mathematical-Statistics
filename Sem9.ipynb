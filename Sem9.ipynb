{
  "nbformat": 4,
  "nbformat_minor": 0,
  "metadata": {
    "colab": {
      "provenance": []
    },
    "kernelspec": {
      "name": "python3",
      "display_name": "Python 3"
    },
    "language_info": {
      "name": "python"
    }
  },
  "cells": [
    {
      "cell_type": "code",
      "source": [
        "import numpy as np\n",
        "from scipy import stats\n",
        "import matplotlib.pyplot as plt\n",
        "import pandas as pd\n",
        "from statsmodels.stats.multicomp import pairwise_tukeyhsd\n"
      ],
      "metadata": {
        "id": "Rao3_QOYPZqH"
      },
      "execution_count": null,
      "outputs": []
    },
    {
      "cell_type": "markdown",
      "source": [
        "Провести дисперсионный анализ для определения того, есть ли различия среднего роста среди взрослых футболистов, хоккеистов и штангистов. Даны значения роста в трех группах случайно выбранных спортсменов: Футболисты: 173, 175, 180, 178, 177, 185, 183, 182. Хоккеисты: 177, 179, 180, 188, 177, 172, 171, 184, 180. Штангисты: 172, 173, 169, 177, 166, 180, 178, 177, 172, 166, 170"
      ],
      "metadata": {
        "id": "pwf8Bo2hzknR"
      }
    },
    {
      "cell_type": "code",
      "source": [
        "f = np.array([173, 175, 180, 178, 177, 185, 183, 182])\n",
        "h = np.array([177, 179, 180, 188, 177, 172, 171, 184, 180])\n",
        "w = np.array([172, 173, 169, 177, 166, 180, 178, 177, 172, 166, 170])"
      ],
      "metadata": {
        "id": "CZqIS3jDzkEJ"
      },
      "execution_count": null,
      "outputs": []
    },
    {
      "cell_type": "markdown",
      "source": [
        "Прежде всего проведем проверки на нормальность и равенство дисперсий.\n"
      ],
      "metadata": {
        "id": "mGu4IH_x0oM_"
      }
    },
    {
      "cell_type": "code",
      "source": [
        "stats.shapiro(f)"
      ],
      "metadata": {
        "colab": {
          "base_uri": "https://localhost:8080/"
        },
        "id": "l0pB5EZI0lzL",
        "outputId": "5f99cae3-aa1c-401d-b1b3-764d47c8dba6"
      },
      "execution_count": null,
      "outputs": [
        {
          "output_type": "execute_result",
          "data": {
            "text/plain": [
              "ShapiroResult(statistic=0.9775082468986511, pvalue=0.9495404362678528)"
            ]
          },
          "metadata": {},
          "execution_count": 28
        }
      ]
    },
    {
      "cell_type": "code",
      "source": [
        "stats.shapiro(h)"
      ],
      "metadata": {
        "colab": {
          "base_uri": "https://localhost:8080/"
        },
        "id": "46D52QFc07Hd",
        "outputId": "5dd8cc6a-2e48-460c-eac2-3fcae76abb00"
      },
      "execution_count": null,
      "outputs": [
        {
          "output_type": "execute_result",
          "data": {
            "text/plain": [
              "ShapiroResult(statistic=0.9579196572303772, pvalue=0.7763139009475708)"
            ]
          },
          "metadata": {},
          "execution_count": 29
        }
      ]
    },
    {
      "cell_type": "code",
      "source": [
        "stats.shapiro(w)"
      ],
      "metadata": {
        "colab": {
          "base_uri": "https://localhost:8080/"
        },
        "id": "zyydvUvF08gG",
        "outputId": "512f986b-9e48-4eaa-835e-cf58246bfd1e"
      },
      "execution_count": null,
      "outputs": [
        {
          "output_type": "execute_result",
          "data": {
            "text/plain": [
              "ShapiroResult(statistic=0.9386808276176453, pvalue=0.5051165223121643)"
            ]
          },
          "metadata": {},
          "execution_count": 30
        }
      ]
    },
    {
      "cell_type": "markdown",
      "source": [
        "Все значения в выборках распределены нормально."
      ],
      "metadata": {
        "id": "oZGwXwhk0_FN"
      }
    },
    {
      "cell_type": "code",
      "source": [
        "stats.bartlett(f, h, w)"
      ],
      "metadata": {
        "colab": {
          "base_uri": "https://localhost:8080/"
        },
        "id": "TRhx2ko109hT",
        "outputId": "25b2bffe-b6f3-4fdc-b6f0-6f7f19e244e0"
      },
      "execution_count": null,
      "outputs": [
        {
          "output_type": "execute_result",
          "data": {
            "text/plain": [
              "BartlettResult(statistic=0.4640521043406442, pvalue=0.7929254656083131)"
            ]
          },
          "metadata": {},
          "execution_count": 31
        }
      ]
    },
    {
      "cell_type": "markdown",
      "source": [
        "Равенство дисперсий тоже соблюдено. Проведем анализ."
      ],
      "metadata": {
        "id": "aOtgK3Nl1Rbn"
      }
    },
    {
      "cell_type": "code",
      "source": [
        "k = 3\n",
        "f_mean = np.mean(f)\n",
        "f_mean"
      ],
      "metadata": {
        "colab": {
          "base_uri": "https://localhost:8080/"
        },
        "id": "Vt5gg60k1OqG",
        "outputId": "36a80e87-22a7-4628-fb52-32c3f7e51115"
      },
      "execution_count": null,
      "outputs": [
        {
          "output_type": "execute_result",
          "data": {
            "text/plain": [
              "179.125"
            ]
          },
          "metadata": {},
          "execution_count": 32
        }
      ]
    },
    {
      "cell_type": "code",
      "source": [
        "h_mean = np.mean(h)\n",
        "h_mean"
      ],
      "metadata": {
        "colab": {
          "base_uri": "https://localhost:8080/"
        },
        "id": "seEI8y9V2Iq0",
        "outputId": "95fee7b3-650b-4405-951a-effea4ca2511"
      },
      "execution_count": null,
      "outputs": [
        {
          "output_type": "execute_result",
          "data": {
            "text/plain": [
              "178.66666666666666"
            ]
          },
          "metadata": {},
          "execution_count": 33
        }
      ]
    },
    {
      "cell_type": "code",
      "source": [
        "w_mean = np.mean(w)\n",
        "w_mean"
      ],
      "metadata": {
        "colab": {
          "base_uri": "https://localhost:8080/"
        },
        "id": "o119YF7Q2Kmt",
        "outputId": "8e66bb78-7c82-4f87-ea9d-54b369b97210"
      },
      "execution_count": null,
      "outputs": [
        {
          "output_type": "execute_result",
          "data": {
            "text/plain": [
              "172.72727272727272"
            ]
          },
          "metadata": {},
          "execution_count": 34
        }
      ]
    },
    {
      "cell_type": "code",
      "source": [
        "total = np.array([*f, *h, *w])\n",
        "total"
      ],
      "metadata": {
        "colab": {
          "base_uri": "https://localhost:8080/"
        },
        "id": "rN15QCHU2Mte",
        "outputId": "a82a45e6-2d66-4c84-f7a3-f46198e2dc1b"
      },
      "execution_count": null,
      "outputs": [
        {
          "output_type": "execute_result",
          "data": {
            "text/plain": [
              "array([173, 175, 180, 178, 177, 185, 183, 182, 177, 179, 180, 188, 177,\n",
              "       172, 171, 184, 180, 172, 173, 169, 177, 166, 180, 178, 177, 172,\n",
              "       166, 170])"
            ]
          },
          "metadata": {},
          "execution_count": 35
        }
      ]
    },
    {
      "cell_type": "code",
      "source": [
        "n = len(total)\n",
        "n"
      ],
      "metadata": {
        "colab": {
          "base_uri": "https://localhost:8080/"
        },
        "id": "RLgXkMVE2kVJ",
        "outputId": "f299e4f1-cbee-408a-d979-b1ea018f8a33"
      },
      "execution_count": null,
      "outputs": [
        {
          "output_type": "execute_result",
          "data": {
            "text/plain": [
              "28"
            ]
          },
          "metadata": {},
          "execution_count": 36
        }
      ]
    },
    {
      "cell_type": "code",
      "source": [
        "total_mean = np.mean(total)\n",
        "total_mean"
      ],
      "metadata": {
        "colab": {
          "base_uri": "https://localhost:8080/"
        },
        "id": "TbtTsVLC3yCQ",
        "outputId": "2e9d1f34-d05b-4320-c91c-b692b1ea5b4d"
      },
      "execution_count": null,
      "outputs": [
        {
          "output_type": "execute_result",
          "data": {
            "text/plain": [
              "176.46428571428572"
            ]
          },
          "metadata": {},
          "execution_count": 37
        }
      ]
    },
    {
      "cell_type": "code",
      "source": [
        "S = np.sum((total - total_mean)**2)\n",
        "S"
      ],
      "metadata": {
        "colab": {
          "base_uri": "https://localhost:8080/"
        },
        "id": "vvS8KG3k37Cv",
        "outputId": "76732fd0-ce2e-42eb-de29-65378f375745"
      },
      "execution_count": null,
      "outputs": [
        {
          "output_type": "execute_result",
          "data": {
            "text/plain": [
              "830.9642857142854"
            ]
          },
          "metadata": {},
          "execution_count": 38
        }
      ]
    },
    {
      "cell_type": "code",
      "source": [
        "S_f = np.sum((f_mean - total_mean)**2)* len(f) + np.sum((h_mean - total_mean)**2)* len(h) + np.sum((w_mean - total_mean)**2)* len(w)\n",
        "S_f"
      ],
      "metadata": {
        "colab": {
          "base_uri": "https://localhost:8080/"
        },
        "id": "hKh6-a-O4aLo",
        "outputId": "ebfcca5d-44ec-4f06-e33b-82cc991c2929"
      },
      "execution_count": null,
      "outputs": [
        {
          "output_type": "execute_result",
          "data": {
            "text/plain": [
              "253.9074675324678"
            ]
          },
          "metadata": {},
          "execution_count": 39
        }
      ]
    },
    {
      "cell_type": "code",
      "source": [
        "S_ost = np.sum((f - f_mean)**2) + np.sum((h - h_mean)**2) + np.sum((w - w_mean)**2)\n",
        "S_ost"
      ],
      "metadata": {
        "colab": {
          "base_uri": "https://localhost:8080/"
        },
        "id": "V4cD7Pp15eCn",
        "outputId": "a38b4ee5-0247-4d66-f817-9ccb3af03d4b"
      },
      "execution_count": null,
      "outputs": [
        {
          "output_type": "execute_result",
          "data": {
            "text/plain": [
              "577.0568181818182"
            ]
          },
          "metadata": {},
          "execution_count": 40
        }
      ]
    },
    {
      "cell_type": "code",
      "source": [
        "S_ost + S_f"
      ],
      "metadata": {
        "colab": {
          "base_uri": "https://localhost:8080/"
        },
        "id": "UFMDdZhF6FKu",
        "outputId": "2336a7aa-8f0c-441e-c4bb-ab3026f5e981"
      },
      "execution_count": null,
      "outputs": [
        {
          "output_type": "execute_result",
          "data": {
            "text/plain": [
              "830.964285714286"
            ]
          },
          "metadata": {},
          "execution_count": 41
        }
      ]
    },
    {
      "cell_type": "markdown",
      "source": [
        "Сумма равна S, Значит расчеты произведены верно."
      ],
      "metadata": {
        "id": "lfNb_5za6RPz"
      }
    },
    {
      "cell_type": "code",
      "source": [
        "D_f = S_f / (k-1)\n",
        "D_f"
      ],
      "metadata": {
        "colab": {
          "base_uri": "https://localhost:8080/"
        },
        "id": "qsntosql6L0T",
        "outputId": "755dbd3b-542a-4256-8de7-8fdd0bc76e21"
      },
      "execution_count": null,
      "outputs": [
        {
          "output_type": "execute_result",
          "data": {
            "text/plain": [
              "126.9537337662339"
            ]
          },
          "metadata": {},
          "execution_count": 42
        }
      ]
    },
    {
      "cell_type": "code",
      "source": [
        "D_ost = S_ost / (n-k)\n",
        "D_ost"
      ],
      "metadata": {
        "colab": {
          "base_uri": "https://localhost:8080/"
        },
        "id": "Q-qRSbww8lVQ",
        "outputId": "b7141ae4-4839-4158-87e3-088c58a0ccf4"
      },
      "execution_count": null,
      "outputs": [
        {
          "output_type": "execute_result",
          "data": {
            "text/plain": [
              "23.08227272727273"
            ]
          },
          "metadata": {},
          "execution_count": 43
        }
      ]
    },
    {
      "cell_type": "code",
      "source": [
        "F_n = D_f / D_ost\n",
        "F_n"
      ],
      "metadata": {
        "colab": {
          "base_uri": "https://localhost:8080/"
        },
        "id": "7XkQK1_B8vO3",
        "outputId": "aa9d4d04-94eb-4a82-d807-9ca4db1d97fd"
      },
      "execution_count": null,
      "outputs": [
        {
          "output_type": "execute_result",
          "data": {
            "text/plain": [
              "5.500053450812598"
            ]
          },
          "metadata": {},
          "execution_count": 44
        }
      ]
    },
    {
      "cell_type": "markdown",
      "source": [
        "Зафиксируем уровень значимости alpha = 0,05, для него найдем Fcrit."
      ],
      "metadata": {
        "id": "iVApjdRI_Tej"
      }
    },
    {
      "cell_type": "code",
      "source": [
        "alpha = 0.05\n",
        "F_crit = stats.f.ppf(1-alpha, k-1, n-k)\n",
        "F_crit"
      ],
      "metadata": {
        "colab": {
          "base_uri": "https://localhost:8080/"
        },
        "id": "A04a50Tv9E4P",
        "outputId": "de55ffc0-d440-4e68-c29b-4b3c0e6406f4"
      },
      "execution_count": null,
      "outputs": [
        {
          "output_type": "execute_result",
          "data": {
            "text/plain": [
              "3.3851899614491687"
            ]
          },
          "metadata": {},
          "execution_count": 45
        }
      ]
    },
    {
      "cell_type": "markdown",
      "source": [
        "Как видим, F_n > F_crit, а значит статистически значимые различия в росте выборок спортсменов имеются."
      ],
      "metadata": {
        "id": "n01Lg1h6ANFt"
      }
    },
    {
      "cell_type": "code",
      "source": [
        "f = stats.f_oneway(f, h, w)\n",
        "f"
      ],
      "metadata": {
        "colab": {
          "base_uri": "https://localhost:8080/"
        },
        "id": "q4ZYdylQ_tbr",
        "outputId": "c64e11cc-45d2-40e2-cce6-6b5d648e7c19"
      },
      "execution_count": null,
      "outputs": [
        {
          "output_type": "execute_result",
          "data": {
            "text/plain": [
              "F_onewayResult(statistic=5.500053450812596, pvalue=0.010482206918698694)"
            ]
          },
          "metadata": {},
          "execution_count": 46
        }
      ]
    },
    {
      "cell_type": "markdown",
      "source": [
        "p-value < alpha, что подтверждает различия в среднем росте спортсменов по выборкам."
      ],
      "metadata": {
        "id": "J8oOTLfYA4f1"
      }
    },
    {
      "cell_type": "markdown",
      "source": [
        "Данную задачу можно было решеить и другим способом."
      ],
      "metadata": {
        "id": "DC1FESMbBRLO"
      }
    },
    {
      "cell_type": "code",
      "source": [
        "stats.kruskal(f, h, w)"
      ],
      "metadata": {
        "colab": {
          "base_uri": "https://localhost:8080/"
        },
        "id": "FkqMYDrUBaGa",
        "outputId": "3fee1314-f6b0-4609-b2ca-4979614d5781"
      },
      "execution_count": null,
      "outputs": [
        {
          "output_type": "execute_result",
          "data": {
            "text/plain": [
              "KruskalResult(statistic=9.207658779576581, pvalue=0.010013416954688928)"
            ]
          },
          "metadata": {},
          "execution_count": 47
        }
      ]
    },
    {
      "cell_type": "markdown",
      "source": [
        "p-value < alpha, значит стат.значимые различия в росте имеются."
      ],
      "metadata": {
        "id": "yG-B8fglBwYH"
      }
    },
    {
      "cell_type": "code",
      "source": [
        "df = pd.DataFrame({\"score\": [173, 175, 180, 178, 177, 185, 183, 182,\n",
        "                             177, 179, 180, 188, 177, 172, 171, 184, 180,\n",
        "                             172, 173, 169, 177, 166, 180, 178, 177, 172, 166, 170],\n",
        "                   \"group\": np.repeat([\"f\", \"h\", \"w\"], repeats = [8, 9, 11])})"
      ],
      "metadata": {
        "id": "0QbqiHZ_BrPY"
      },
      "execution_count": null,
      "outputs": []
    },
    {
      "cell_type": "code",
      "source": [
        "tukey = pairwise_tukeyhsd(df[\"score\"], df[\"group\"], alpha = 0.05)\n",
        "print(tukey)"
      ],
      "metadata": {
        "colab": {
          "base_uri": "https://localhost:8080/"
        },
        "id": "PnYQnrORB9bn",
        "outputId": "2f861eab-6132-421f-b58b-13304bd39a94"
      },
      "execution_count": null,
      "outputs": [
        {
          "output_type": "stream",
          "name": "stdout",
          "text": [
            " Multiple Comparison of Means - Tukey HSD, FWER=0.05 \n",
            "=====================================================\n",
            "group1 group2 meandiff p-adj   lower    upper  reject\n",
            "-----------------------------------------------------\n",
            "     f      h  -0.4583  0.979  -6.2732  5.3566  False\n",
            "     f      w  -6.3977 0.0219 -11.9583 -0.8372   True\n",
            "     h      w  -5.9394 0.0284 -11.3181 -0.5607   True\n",
            "-----------------------------------------------------\n"
          ]
        }
      ]
    },
    {
      "cell_type": "markdown",
      "source": [
        "Из таблицы видно, что стат.значимых различий в росте нет только между футболистами и хоккеистами. Между штангистами и остальными выборками стат.значимые различия в росте спортсменов имеются."
      ],
      "metadata": {
        "id": "vRuUxo7OCIqi"
      }
    }
  ]
}