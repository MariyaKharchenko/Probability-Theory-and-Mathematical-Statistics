{
  "nbformat": 4,
  "nbformat_minor": 0,
  "metadata": {
    "colab": {
      "provenance": []
    },
    "kernelspec": {
      "name": "python3",
      "display_name": "Python 3"
    },
    "language_info": {
      "name": "python"
    }
  },
  "cells": [
    {
      "cell_type": "code",
      "execution_count": null,
      "metadata": {
        "id": "d6srDzzWkUvJ"
      },
      "outputs": [],
      "source": [
        "import numpy as np\n",
        "import scipy.stats as stats"
      ]
    },
    {
      "cell_type": "markdown",
      "source": [
        "Задача 1. Выбрать тест и проверить, есть  ли различия между выборками:\n",
        "\n",
        "1 )  Даны две  независимые выборки. Не соблюдается условие нормальности\n",
        "x1  380,420, 290\n",
        "y1 140,360,200,900\n",
        "\n",
        "Сделайте вывод по результатам, полученным с помощью функции"
      ],
      "metadata": {
        "id": "XHZ8rko7khDi"
      }
    },
    {
      "cell_type": "code",
      "source": [
        "x1 = [380,420, 290]\n",
        "y1 = [140,360,200,900]"
      ],
      "metadata": {
        "id": "mxZgs5B8kgZh"
      },
      "execution_count": null,
      "outputs": []
    },
    {
      "cell_type": "code",
      "source": [
        "stats.mannwhitneyu(x1, y1)"
      ],
      "metadata": {
        "colab": {
          "base_uri": "https://localhost:8080/"
        },
        "id": "B9c06tCJkwtN",
        "outputId": "37f056f7-8b0b-480a-ea60-66578cb322bc"
      },
      "execution_count": null,
      "outputs": [
        {
          "output_type": "execute_result",
          "data": {
            "text/plain": [
              "MannwhitneyuResult(statistic=8.0, pvalue=0.6285714285714286)"
            ]
          },
          "metadata": {},
          "execution_count": 3
        }
      ]
    },
    {
      "cell_type": "markdown",
      "source": [
        "Статистически значимых различий между выборками не обнаружено."
      ],
      "metadata": {
        "id": "Gk2WEoark9MH"
      }
    },
    {
      "cell_type": "markdown",
      "source": [
        "Задача 2. Исследовалось влияние препарата на уровень давления пациентов. Сначала измерялось давление до приема препарата, потом через 10 минут и через 30 минут. Есть ли статистически значимые различия?\n",
        "\n",
        "1е измерение до приема препарата: 150, 160, 165, 145, 155\n",
        "2е измерение через 10 минут: 140, 155, 150,  130, 135\n",
        "3е измерение через 30 минут: 130, 130, 120, 130, 125"
      ],
      "metadata": {
        "id": "oD7zhJ--leOx"
      }
    },
    {
      "cell_type": "code",
      "source": [
        "x1 = [150, 160, 165, 145, 155]\n",
        "x2 = [140, 155, 150, 130, 135]\n",
        "x3 = [130, 130, 120, 130, 125]"
      ],
      "metadata": {
        "id": "TEWLvslck336"
      },
      "execution_count": null,
      "outputs": []
    },
    {
      "cell_type": "code",
      "source": [
        "stats.friedmanchisquare(x1, x2, x3)"
      ],
      "metadata": {
        "colab": {
          "base_uri": "https://localhost:8080/"
        },
        "id": "FDhhoYculxV-",
        "outputId": "51005643-bb47-4293-bf57-ef2405b86a84"
      },
      "execution_count": null,
      "outputs": [
        {
          "output_type": "execute_result",
          "data": {
            "text/plain": [
              "FriedmanchisquareResult(statistic=9.578947368421062, pvalue=0.00831683351100441)"
            ]
          },
          "metadata": {},
          "execution_count": 5
        }
      ]
    },
    {
      "cell_type": "markdown",
      "source": [
        "Cтатистически значимые различия между выборками имеются. Иными словами, препарат влияет на давление."
      ],
      "metadata": {
        "id": "lDRlpy3Fl-GG"
      }
    },
    {
      "cell_type": "markdown",
      "source": [
        "Задача 3. Сравните 1 и 2 е измерения, предполагая, что 3го измерения через 30 минут не было."
      ],
      "metadata": {
        "id": "Ajt5jhDEmLve"
      }
    },
    {
      "cell_type": "code",
      "source": [
        "stats.wilcoxon(x1, x2)"
      ],
      "metadata": {
        "colab": {
          "base_uri": "https://localhost:8080/"
        },
        "id": "zMUbiQUcl6yp",
        "outputId": "e22c53a1-8ea4-448b-b483-4dcb7e36aaa9"
      },
      "execution_count": null,
      "outputs": [
        {
          "output_type": "execute_result",
          "data": {
            "text/plain": [
              "WilcoxonResult(statistic=0.0, pvalue=0.0625)"
            ]
          },
          "metadata": {},
          "execution_count": 6
        }
      ]
    },
    {
      "cell_type": "markdown",
      "source": [
        "Различия между первым и вторым измерениями статистически незначительны."
      ],
      "metadata": {
        "id": "9NOS6VhjmpBB"
      }
    },
    {
      "cell_type": "markdown",
      "source": [
        "Задача 4. Даны 3 группы  учеников плавания.\n",
        "В 1 группе время на дистанцию 50 м составляют:\n",
        "56, 60, 62, 55, 71, 67, 59, 58, 64, 67\n",
        "\n",
        "Вторая группа : 57, 58, 69, 48, 72, 70, 68, 71, 50, 53\n",
        "Третья группа: 57, 67, 49, 48, 47, 55, 66, 51, 54"
      ],
      "metadata": {
        "id": "wCS9opNbmwty"
      }
    },
    {
      "cell_type": "code",
      "source": [
        "t1 = [56, 60, 62, 55, 71, 67, 59, 58, 64, 67]\n",
        "t2 = [57, 58, 69, 48, 72, 70, 68, 71, 50, 53]\n",
        "t3 = [57, 67, 49, 48, 47, 55, 66, 51, 54]"
      ],
      "metadata": {
        "id": "S5U30eiJmgU3"
      },
      "execution_count": null,
      "outputs": []
    },
    {
      "cell_type": "code",
      "source": [
        "stats.kruskal(t1, t2, t3)"
      ],
      "metadata": {
        "colab": {
          "base_uri": "https://localhost:8080/"
        },
        "id": "FMyNSoKNnpN9",
        "outputId": "95062465-40cb-4251-d069-cd64728a0925"
      },
      "execution_count": null,
      "outputs": [
        {
          "output_type": "execute_result",
          "data": {
            "text/plain": [
              "KruskalResult(statistic=5.465564058257224, pvalue=0.0650380998590494)"
            ]
          },
          "metadata": {},
          "execution_count": 8
        }
      ]
    },
    {
      "cell_type": "markdown",
      "source": [
        "Различия между выборками статистически незначительны."
      ],
      "metadata": {
        "id": "RSt7D51En69G"
      }
    },
    {
      "cell_type": "markdown",
      "source": [
        "Задача 5. Заявляется, что партия изготавливается со средним арифметическим 2,5 см. Проверить данную гипотезу, если известно, что размеры изделий подчинены нормальному закону распределения. Объем выборки 10, уровень статистической значимости 5%\n",
        "\n",
        "2.51, 2.35, 2.74, 2.56, 2.40, 2.36, 2.65, 2.7, 2.67, 2.34"
      ],
      "metadata": {
        "id": "ATEfeI2PoBSZ"
      }
    },
    {
      "cell_type": "code",
      "source": [
        "mu = 2.5\n",
        "n = 10\n",
        "alpha = 0.05\n",
        "x = [2.51, 2.35, 2.74, 2.56, 2.40, 2.36, 2.65, 2.7, 2.67, 2.34]\n",
        "x_mean = np.mean(x)\n",
        "x_mean"
      ],
      "metadata": {
        "colab": {
          "base_uri": "https://localhost:8080/"
        },
        "id": "EyXlpWwqnyOk",
        "outputId": "70d7c771-5668-4b7b-ac41-48518bc89e31"
      },
      "execution_count": null,
      "outputs": [
        {
          "output_type": "execute_result",
          "data": {
            "text/plain": [
              "2.5279999999999996"
            ]
          },
          "metadata": {},
          "execution_count": 11
        }
      ]
    },
    {
      "cell_type": "code",
      "source": [
        "sigma = np.std(x, ddof=1)\n",
        "sigma"
      ],
      "metadata": {
        "colab": {
          "base_uri": "https://localhost:8080/"
        },
        "id": "o_28CYBzog8s",
        "outputId": "e5b25544-6bb3-4004-ac3d-f3cde841fe26"
      },
      "execution_count": null,
      "outputs": [
        {
          "output_type": "execute_result",
          "data": {
            "text/plain": [
              "0.1572542173961923"
            ]
          },
          "metadata": {},
          "execution_count": 12
        }
      ]
    },
    {
      "cell_type": "code",
      "source": [
        "t = (x_mean - mu)/(sigma/np.sqrt(n))\n",
        "t"
      ],
      "metadata": {
        "colab": {
          "base_uri": "https://localhost:8080/"
        },
        "id": "ogos5e3Iph2M",
        "outputId": "52e22e0c-e76b-4d0f-d1e0-02ded96cc0a9"
      },
      "execution_count": null,
      "outputs": [
        {
          "output_type": "execute_result",
          "data": {
            "text/plain": [
              "0.5630613661802959"
            ]
          },
          "metadata": {},
          "execution_count": 13
        }
      ]
    },
    {
      "cell_type": "code",
      "source": [
        "t1 = stats.t.ppf(1 - alpha / 2, n - 1)\n",
        "t2 = stats.t.ppf(alpha / 2, n - 1)\n",
        "t1, t2"
      ],
      "metadata": {
        "colab": {
          "base_uri": "https://localhost:8080/"
        },
        "id": "Yk5_V6Kjqv8h",
        "outputId": "373610a9-7521-4bd4-af6a-0d406768f09e"
      },
      "execution_count": null,
      "outputs": [
        {
          "output_type": "execute_result",
          "data": {
            "text/plain": [
              "(2.2621571627409915, -2.262157162740992)"
            ]
          },
          "metadata": {},
          "execution_count": 14
        }
      ]
    },
    {
      "cell_type": "markdown",
      "source": [
        "Так как t не выходит за пределы критических интервалов, гипотеза верна."
      ],
      "metadata": {
        "id": "iZYQg1-mpyQp"
      }
    }
  ]
}