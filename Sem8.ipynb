{
  "nbformat": 4,
  "nbformat_minor": 0,
  "metadata": {
    "colab": {
      "provenance": []
    },
    "kernelspec": {
      "name": "python3",
      "display_name": "Python 3"
    },
    "language_info": {
      "name": "python"
    }
  },
  "cells": [
    {
      "cell_type": "code",
      "execution_count": null,
      "metadata": {
        "id": "DYy4uQLzOhAR"
      },
      "outputs": [],
      "source": [
        "import numpy as np\n",
        "import scipy.stats as stats\n",
        "from sklearn.linear_model import LinearRegression"
      ]
    },
    {
      "cell_type": "markdown",
      "source": [
        "Задача 1. Даны значения величины заработной платы заемщиков банка (zp) и значения их поведенческого кредитного скоринга (ks): zp = [35, 45, 190, 200, 40, 70, 54, 150, 120, 110], ks = [401, 574, 874, 919, 459, 739, 653, 902, 746, 832]. Используя математические операции, посчитать коэффициенты линейной регрессии, приняв за X заработную плату (то есть, zp - признак), а за y - значения скорингового балла (то есть, ks - целевая переменная). Произвести расчет как с использованием intercept, так и без."
      ],
      "metadata": {
        "id": "_WAzUDIDPjDp"
      }
    },
    {
      "cell_type": "code",
      "source": [
        "zp = np.array([35, 45, 190, 200, 40, 70, 54, 150, 120, 110])\n",
        "ks = np.array([401, 574, 874, 919, 459, 739, 653, 902, 746, 832])"
      ],
      "metadata": {
        "id": "VeLT_oRAPlJx"
      },
      "execution_count": null,
      "outputs": []
    },
    {
      "cell_type": "code",
      "source": [
        "n = len(zp)"
      ],
      "metadata": {
        "id": "2h53x8kSQ0rS"
      },
      "execution_count": null,
      "outputs": []
    },
    {
      "cell_type": "markdown",
      "source": [
        "Расчет с inercept:\n",
        "\n",
        "y_pred = b0 + b1*zp\n",
        "\n",
        "b0 и b1 - искомое (в данной задаче)"
      ],
      "metadata": {
        "id": "CTskTrIQTYSA"
      }
    },
    {
      "cell_type": "code",
      "source": [
        "b1 = (n*np.sum(zp*ks)-np.sum(zp)*np.sum(ks))/(n*np.sum(zp**2)-np.sum(zp)**2)\n",
        "b1"
      ],
      "metadata": {
        "colab": {
          "base_uri": "https://localhost:8080/"
        },
        "id": "ARpism-3P9y2",
        "outputId": "40bbafc8-257f-4fb7-de2b-5588664abadb"
      },
      "execution_count": null,
      "outputs": [
        {
          "output_type": "execute_result",
          "data": {
            "text/plain": [
              "2.6205388824027653"
            ]
          },
          "metadata": {},
          "execution_count": 6
        }
      ]
    },
    {
      "cell_type": "code",
      "source": [
        "b0 = np.mean(ks) - b1* np.mean(zp)\n",
        "b0"
      ],
      "metadata": {
        "colab": {
          "base_uri": "https://localhost:8080/"
        },
        "id": "gZzgriN9Qp0M",
        "outputId": "07b89beb-c406-4987-e70e-ab232bf65806"
      },
      "execution_count": null,
      "outputs": [
        {
          "output_type": "execute_result",
          "data": {
            "text/plain": [
              "444.17735732435955"
            ]
          },
          "metadata": {},
          "execution_count": 7
        }
      ]
    },
    {
      "cell_type": "markdown",
      "source": [
        "Расчет без inercept:\n",
        "\n",
        "y_pred = b1*zp"
      ],
      "metadata": {
        "id": "neTrkopJT3nH"
      }
    },
    {
      "cell_type": "code",
      "source": [
        "model = LinearRegression(fit_intercept=False)\n",
        "zp = zp.reshape(-1, 1)\n",
        "regres = model.fit(zp, ks)\n",
        "\n",
        "b0 = regres.intercept_\n",
        "b1 = regres.coef_\n",
        "\n",
        "print(f\"b0 = {b0} - intercept\\nb1 = {b1}\")"
      ],
      "metadata": {
        "colab": {
          "base_uri": "https://localhost:8080/"
        },
        "id": "ZKkZUShdRED1",
        "outputId": "b46f936b-2dea-4baf-95a3-4302b2760bab"
      },
      "execution_count": null,
      "outputs": [
        {
          "output_type": "stream",
          "name": "stdout",
          "text": [
            "b0 = 0.0 - intercept\n",
            "b1 = [5.88982042]\n"
          ]
        }
      ]
    },
    {
      "cell_type": "markdown",
      "source": [
        "Задача 2. Посчитать коэффициент линейной регрессии при заработной плате (zp), используя градиентный спуск (без intercept)."
      ],
      "metadata": {
        "id": "JVs9avP0UyPN"
      }
    },
    {
      "cell_type": "code",
      "source": [
        "zp = np.array([35, 45, 190, 200, 40, 70, 54, 150, 120, 110])\n",
        "ks = np.array([401, 574, 874, 919, 459, 739, 653, 902, 746, 832])"
      ],
      "metadata": {
        "id": "qtUlUtZo8JtO"
      },
      "execution_count": null,
      "outputs": []
    },
    {
      "cell_type": "code",
      "source": [
        "# функция потерь для b1\n",
        "def mse_(b1, y=ks, x=zp, n=len(zp)):\n",
        "  return np.sum((b1*x - y)**2) / n"
      ],
      "metadata": {
        "id": "GoiHg5D0Uban"
      },
      "execution_count": null,
      "outputs": []
    },
    {
      "cell_type": "code",
      "source": [
        "alpha = 1e-6\n",
        "b1 = (n*np.sum(zp*ks)-np.sum(zp)*np.sum(ks))/(n*np.sum(zp**2)-np.sum(zp)**2)\n",
        "n = len(zp)"
      ],
      "metadata": {
        "id": "ZLaB-X0SVYPR"
      },
      "execution_count": null,
      "outputs": []
    },
    {
      "cell_type": "code",
      "source": [
        "# каждую 500-ую итерацию\n",
        "for i in range(2000):\n",
        "  b1 -= alpha * (2/n) * np.sum((b1*zp - ks) * zp)\n",
        "  if i % 500 == 0:\n",
        "    print(f\"Итерация {i}: b1 = {b1}, mse = {mse_(b1)}\")"
      ],
      "metadata": {
        "colab": {
          "base_uri": "https://localhost:8080/"
        },
        "id": "TOQ7pSwCYl9X",
        "outputId": "a3f7491c-684c-455e-a7f6-23fe7ddad583"
      },
      "execution_count": null,
      "outputs": [
        {
          "output_type": "stream",
          "name": "stdout",
          "text": [
            "Итерация 0: b1 = 5.889820420132673, mse = 56516.85841571943\n",
            "Итерация 500: b1 = 5.889820420132673, mse = 56516.85841571943\n",
            "Итерация 1000: b1 = 5.889820420132673, mse = 56516.85841571943\n",
            "Итерация 1500: b1 = 5.889820420132673, mse = 56516.85841571943\n"
          ]
        }
      ]
    },
    {
      "cell_type": "markdown",
      "source": [
        "b1 в задаче 1 и задаче 2 совпало, что и требовалось получить."
      ],
      "metadata": {
        "id": "LYYWuU1q9KUx"
      }
    },
    {
      "cell_type": "markdown",
      "source": [
        "Задача 3. Произвести вычисления как в пункте 2, но с вычислением intercept. Учесть, что изменение коэффициентов должно производиться на каждом шаге одновременно (то есть изменение одного коэффициента не должно влиять на изменение другого во время одной итерации)."
      ],
      "metadata": {
        "id": "erFj17OafWn2"
      }
    },
    {
      "cell_type": "code",
      "source": [
        "zp = np.array([35, 45, 190, 200, 40, 70, 54, 150, 120, 110])\n",
        "ks = np.array([401, 574, 874, 919, 459, 739, 653, 902, 746, 832])"
      ],
      "metadata": {
        "id": "fSIo_zvjfefP"
      },
      "execution_count": null,
      "outputs": []
    },
    {
      "cell_type": "code",
      "source": [
        "def _mse(b0, b1, x=zp, y=ks):\n",
        "    return np.sum(((b0 + b1 * x) - y)**2) / len(x)"
      ],
      "metadata": {
        "id": "MxubhWeT979y"
      },
      "execution_count": null,
      "outputs": []
    },
    {
      "cell_type": "code",
      "source": [
        "def _mse_b0(b0, b1, x = zp, y = ks):\n",
        "    return 2 * np.sum((b0 + b1 * x) -y) / len(x)"
      ],
      "metadata": {
        "id": "PyX-Xc1Z-Ob8"
      },
      "execution_count": null,
      "outputs": []
    },
    {
      "cell_type": "code",
      "source": [
        "def _mse_b1(b0, b1, x = zp, y = ks):\n",
        "    return 2 * np.sum(((b0 + b1 * x) - y) * x) / len(x)"
      ],
      "metadata": {
        "id": "tY1fABs--WKu"
      },
      "execution_count": null,
      "outputs": []
    },
    {
      "cell_type": "code",
      "source": [
        "alpha = 5e-05\n",
        "b1 = 0\n",
        "b0 = 0\n",
        "mse_min = _mse(b0, b1)\n",
        "i_min = 1\n",
        "b1_min = b1\n",
        "b0_min = b0\n",
        "\n",
        "for i in range(1000000):\n",
        "    b0 -= alpha * _mse_b0(b0, b1)\n",
        "    b1 -= alpha * _mse_b1(b0, b1)\n",
        "    if i % 200000 == 0:\n",
        "        print(f'Итерация {i}: b0 = {b0}, b1 = {b1}, mse = {_mse(b0, b1)}')\n",
        "    if _mse(b0, b1) > mse_min:\n",
        "        print(\n",
        "            f'Итерация {i_min}: b0 = {b0_min}, b1 = {b1_min}, mse = {mse_min},\\nДостигнут минимум.')\n",
        "        break\n",
        "    else:\n",
        "        mse_min = _mse(b0, b1)\n",
        "        i_min = i\n",
        "        b1_min = b1\n",
        "        b0_min = b0\n",
        "print(f'b0 = {b0_min} \\nb1 = {b1_min}')"
      ],
      "metadata": {
        "colab": {
          "base_uri": "https://localhost:8080/"
        },
        "id": "zbrzwi1U_fv9",
        "outputId": "2c23fa44-4e88-4f3a-d406-a96bcdeb5c23"
      },
      "execution_count": null,
      "outputs": [
        {
          "output_type": "stream",
          "name": "stdout",
          "text": [
            "Итерация 0: b0 = 0.07099, b1 = 8.1134501614, mse = 124651.680683742\n",
            "Итерация 200000: b0 = 441.39684663817883, b1 = 2.6410041512597213, mse = 6472.375345394032\n",
            "Итерация 400000: b0 = 444.15994943459765, b1 = 2.62066700891779, mse = 6470.414278045912\n",
            "Итерация 516928: b0 = 444.17646079822043, b1 = 2.6205454810641426, mse = 6470.4142013805385,\n",
            "Достигнут минимум.\n",
            "b0 = 444.17646079822043 \n",
            "b1 = 2.6205454810641426\n"
          ]
        }
      ]
    },
    {
      "cell_type": "markdown",
      "source": [
        "Как видим, коэффициенты с использованием intecept совпали с полученными в первой задаче. Решение произведено верно."
      ],
      "metadata": {
        "id": "nttrdeAyB-mH"
      }
    }
  ]
}