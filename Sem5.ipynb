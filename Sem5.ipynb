{
  "nbformat": 4,
  "nbformat_minor": 0,
  "metadata": {
    "colab": {
      "provenance": []
    },
    "kernelspec": {
      "name": "python3",
      "display_name": "Python 3"
    },
    "language_info": {
      "name": "python"
    }
  },
  "cells": [
    {
      "cell_type": "code",
      "execution_count": null,
      "metadata": {
        "id": "OhatlzvKLb3U"
      },
      "outputs": [],
      "source": [
        "import numpy as np\n",
        "from scipy import stats"
      ]
    },
    {
      "cell_type": "markdown",
      "source": [
        "Задача 1. Известно, что генеральная совокупность распределена нормально со средним квадратическим отклонением, равным 16. Найти доверительный интервал для оценки математического ожидания a с надежностью 0.95, если выборочная средняя M = 80, а объем выборки n = 256."
      ],
      "metadata": {
        "id": "b9r1MEaHLqjP"
      }
    },
    {
      "cell_type": "code",
      "source": [
        "n = 256\n",
        "M = 80\n",
        "sigma = 16\n",
        "alpha = 0.05\n",
        "a = alpha/2\n",
        "a"
      ],
      "metadata": {
        "colab": {
          "base_uri": "https://localhost:8080/"
        },
        "id": "hIIvmnoXLnfy",
        "outputId": "7989a2e6-a9ff-4cab-a8ff-9bb510d4eea2"
      },
      "execution_count": null,
      "outputs": [
        {
          "output_type": "execute_result",
          "data": {
            "text/plain": [
              "0.025"
            ]
          },
          "metadata": {},
          "execution_count": 2
        }
      ]
    },
    {
      "cell_type": "code",
      "source": [
        "z = stats.norm.ppf(1-a)\n",
        "z"
      ],
      "metadata": {
        "colab": {
          "base_uri": "https://localhost:8080/"
        },
        "id": "J9Qz2JjsMBlh",
        "outputId": "f3820099-9cd6-4a7d-dc0b-ae17470213ec"
      },
      "execution_count": null,
      "outputs": [
        {
          "output_type": "execute_result",
          "data": {
            "text/plain": [
              "1.959963984540054"
            ]
          },
          "metadata": {},
          "execution_count": 3
        }
      ]
    },
    {
      "cell_type": "code",
      "source": [
        "x1 = M+z*(sigma/np.sqrt(n))\n",
        "x2 = M-z*(sigma/np.sqrt(n))\n",
        "x2, x1"
      ],
      "metadata": {
        "colab": {
          "base_uri": "https://localhost:8080/"
        },
        "id": "58vD0mqjMU49",
        "outputId": "23884d93-0acf-4d28-9c7f-1d6705a57a63"
      },
      "execution_count": null,
      "outputs": [
        {
          "output_type": "execute_result",
          "data": {
            "text/plain": [
              "(78.04003601545995, 81.95996398454005)"
            ]
          },
          "metadata": {},
          "execution_count": 4
        }
      ]
    },
    {
      "cell_type": "markdown",
      "source": [
        "Задача 2. В результате 10 независимых измерений некоторой величины X, выполненных с одинаковой точностью, получены опытные данные: 6.9, 6.1, 6.2, 6.8, 7.5, 6.3, 6.4, 6.9, 6.7, 6.1 Предполагая, что результаты измерений подчинены нормальному закону распределения вероятностей, оценить истинное значение величины X при помощи доверительного интервала, покрывающего это значение с доверительной вероятностью 0,95."
      ],
      "metadata": {
        "id": "2yEAJUmuM6fI"
      }
    },
    {
      "cell_type": "code",
      "source": [
        "n = 10\n",
        "arr = np.array([6.9, 6.1, 6.2, 6.8, 7.5, 6.3, 6.4, 6.9, 6.7, 6.1])\n",
        "alpha = 1-0.95\n",
        "a = alpha/2\n",
        "x_mean = np.mean(arr)\n",
        "x_mean"
      ],
      "metadata": {
        "colab": {
          "base_uri": "https://localhost:8080/"
        },
        "id": "QQi5TwkPM2L-",
        "outputId": "1972624d-16bd-4413-8bef-e60648474448"
      },
      "execution_count": null,
      "outputs": [
        {
          "output_type": "execute_result",
          "data": {
            "text/plain": [
              "6.590000000000001"
            ]
          },
          "metadata": {},
          "execution_count": 6
        }
      ]
    },
    {
      "cell_type": "code",
      "source": [
        "t = stats.t.ppf(1-a, n-1)\n",
        "t"
      ],
      "metadata": {
        "colab": {
          "base_uri": "https://localhost:8080/"
        },
        "id": "gTRcQikpP7RI",
        "outputId": "7bfd5021-eba6-4e1b-dc8f-378ef52ef2be"
      },
      "execution_count": null,
      "outputs": [
        {
          "output_type": "execute_result",
          "data": {
            "text/plain": [
              "2.2621571627409915"
            ]
          },
          "metadata": {},
          "execution_count": 12
        }
      ]
    },
    {
      "cell_type": "code",
      "source": [
        "sigma = np.std(arr, ddof = 1)\n",
        "sigma"
      ],
      "metadata": {
        "colab": {
          "base_uri": "https://localhost:8080/"
        },
        "id": "q-t7Ir1DQcoc",
        "outputId": "70dad674-143f-48ab-94a3-443dcee01dad"
      },
      "execution_count": null,
      "outputs": [
        {
          "output_type": "execute_result",
          "data": {
            "text/plain": [
              "0.4508017549014448"
            ]
          },
          "metadata": {},
          "execution_count": 8
        }
      ]
    },
    {
      "cell_type": "code",
      "source": [
        "x1 = x_mean + t * (sigma/np.sqrt(n))\n",
        "x2 = x_mean - t * (sigma/np.sqrt(n))\n",
        "x2, x1"
      ],
      "metadata": {
        "colab": {
          "base_uri": "https://localhost:8080/"
        },
        "id": "dwKUilS5Pasz",
        "outputId": "640f386d-3ae7-47e1-8378-a170f253450f"
      },
      "execution_count": null,
      "outputs": [
        {
          "output_type": "execute_result",
          "data": {
            "text/plain": [
              "(6.267515851415713, 6.912484148584288)"
            ]
          },
          "metadata": {},
          "execution_count": 13
        }
      ]
    },
    {
      "cell_type": "markdown",
      "source": [
        "Задача 3. Рост дочерей 175, 167, 154, 174, 178, 148, 160, 167, 169, 170 Рост матерей  178, 165, 165, 173, 168, 155, 160, 164, 178, 175 Используя эти данные построить 95% доверительный интервал для разности среднего роста родителей и детей."
      ],
      "metadata": {
        "id": "ApnJNucQRWtG"
      }
    },
    {
      "cell_type": "code",
      "source": [
        "arr2 = np.array([175, 167, 154, 174, 178, 148, 160, 167, 169, 170])\n",
        "arr1 = np.array([178, 165, 165, 173, 168, 155, 160, 164, 178, 175])\n",
        "alpha = 1-0.95\n",
        "a = alpha/2\n",
        "a"
      ],
      "metadata": {
        "colab": {
          "base_uri": "https://localhost:8080/"
        },
        "id": "X7gvdpPDQnli",
        "outputId": "41384b9d-6674-40a1-8a90-3532594b32dd"
      },
      "execution_count": null,
      "outputs": [
        {
          "output_type": "execute_result",
          "data": {
            "text/plain": [
              "0.025000000000000022"
            ]
          },
          "metadata": {},
          "execution_count": 17
        }
      ]
    },
    {
      "cell_type": "code",
      "source": [
        "x_mean1 = np.mean(arr1)\n",
        "x_mean2 = np.mean(arr2)\n",
        "x_mean1, x_mean2"
      ],
      "metadata": {
        "colab": {
          "base_uri": "https://localhost:8080/"
        },
        "id": "Fh6ouV4pRyyA",
        "outputId": "230933c5-b372-4851-8b80-4cf01bbd71b4"
      },
      "execution_count": null,
      "outputs": [
        {
          "output_type": "execute_result",
          "data": {
            "text/plain": [
              "(168.1, 166.2)"
            ]
          },
          "metadata": {},
          "execution_count": 18
        }
      ]
    },
    {
      "cell_type": "code",
      "source": [
        "delta = x_mean1 - x_mean2\n",
        "delta"
      ],
      "metadata": {
        "colab": {
          "base_uri": "https://localhost:8080/"
        },
        "id": "yaKRjYUqSGym",
        "outputId": "45d4d120-1f1b-4dfb-e1b6-d571d3ef4646"
      },
      "execution_count": null,
      "outputs": [
        {
          "output_type": "execute_result",
          "data": {
            "text/plain": [
              "1.9000000000000057"
            ]
          },
          "metadata": {},
          "execution_count": 19
        }
      ]
    },
    {
      "cell_type": "code",
      "source": [
        "D1 = np.var(arr1)\n",
        "D2 = np.var(arr2)\n",
        "D1, D2"
      ],
      "metadata": {
        "colab": {
          "base_uri": "https://localhost:8080/"
        },
        "id": "veeMvVEkSah5",
        "outputId": "ceda9d1c-a882-4d33-b343-f1b19f6e4ed1"
      },
      "execution_count": null,
      "outputs": [
        {
          "output_type": "execute_result",
          "data": {
            "text/plain": [
              "(54.09000000000001, 81.96000000000001)"
            ]
          },
          "metadata": {},
          "execution_count": 20
        }
      ]
    },
    {
      "cell_type": "code",
      "source": [
        "D = 1/2*(D1 + D2)\n",
        "D"
      ],
      "metadata": {
        "colab": {
          "base_uri": "https://localhost:8080/"
        },
        "id": "bYAPatlISy19",
        "outputId": "ca86fdaf-6070-4af7-83c9-05e9693876a0"
      },
      "execution_count": null,
      "outputs": [
        {
          "output_type": "execute_result",
          "data": {
            "text/plain": [
              "68.025"
            ]
          },
          "metadata": {},
          "execution_count": 21
        }
      ]
    },
    {
      "cell_type": "code",
      "source": [
        "S_delta = np.sqrt(D/len(arr1)+D/len(arr2))\n",
        "S_delta"
      ],
      "metadata": {
        "colab": {
          "base_uri": "https://localhost:8080/"
        },
        "id": "Dw42ODY-S4cm",
        "outputId": "fae2aa72-fc13-473d-c3bf-d2d1f2366d6e"
      },
      "execution_count": null,
      "outputs": [
        {
          "output_type": "execute_result",
          "data": {
            "text/plain": [
              "3.688495628301598"
            ]
          },
          "metadata": {},
          "execution_count": 22
        }
      ]
    },
    {
      "cell_type": "markdown",
      "source": [
        "Так как длина обеих групп одинаковая:"
      ],
      "metadata": {
        "id": "6SdnIc9LTYIJ"
      }
    },
    {
      "cell_type": "code",
      "source": [
        "df = 2*(len(arr1)-1)\n",
        "df"
      ],
      "metadata": {
        "colab": {
          "base_uri": "https://localhost:8080/"
        },
        "id": "Re4neIi_TJl2",
        "outputId": "9caa1c94-0f16-4b5b-a0d5-f2727f902f7a"
      },
      "execution_count": null,
      "outputs": [
        {
          "output_type": "execute_result",
          "data": {
            "text/plain": [
              "18"
            ]
          },
          "metadata": {},
          "execution_count": 24
        }
      ]
    },
    {
      "cell_type": "code",
      "source": [
        "t = stats.t.ppf(1-a, df)\n",
        "t"
      ],
      "metadata": {
        "colab": {
          "base_uri": "https://localhost:8080/"
        },
        "id": "gM84lKf8TXI6",
        "outputId": "903442ae-c4f5-4cae-f916-c0dd7a0d1c1e"
      },
      "execution_count": null,
      "outputs": [
        {
          "output_type": "execute_result",
          "data": {
            "text/plain": [
              "2.10092204024096"
            ]
          },
          "metadata": {},
          "execution_count": 25
        }
      ]
    },
    {
      "cell_type": "code",
      "source": [
        "x1 = delta + t * S_delta\n",
        "x2 = delta - t * S_delta\n",
        "x2, x1"
      ],
      "metadata": {
        "colab": {
          "base_uri": "https://localhost:8080/"
        },
        "id": "qjJtRdqWTuI-",
        "outputId": "ad109c39-8247-4613-d537-798caf6d7f04"
      },
      "execution_count": null,
      "outputs": [
        {
          "output_type": "execute_result",
          "data": {
            "text/plain": [
              "(-5.84924176083125, 9.649241760831261)"
            ]
          },
          "metadata": {},
          "execution_count": 26
        }
      ]
    }
  ]
}