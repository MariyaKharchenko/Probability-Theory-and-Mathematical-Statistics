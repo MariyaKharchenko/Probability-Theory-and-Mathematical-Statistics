{
  "nbformat": 4,
  "nbformat_minor": 0,
  "metadata": {
    "colab": {
      "provenance": []
    },
    "kernelspec": {
      "name": "python3",
      "display_name": "Python 3"
    },
    "language_info": {
      "name": "python"
    }
  },
  "cells": [
    {
      "cell_type": "code",
      "execution_count": null,
      "metadata": {
        "id": "_Sjxt6VpYArH"
      },
      "outputs": [],
      "source": [
        "import numpy as np"
      ]
    },
    {
      "cell_type": "code",
      "source": [
        "import math\n",
        "from math import factorial"
      ],
      "metadata": {
        "id": "48SN-5vkYFJ9"
      },
      "execution_count": null,
      "outputs": []
    },
    {
      "cell_type": "markdown",
      "source": [
        "Задача 1. Случайная непрерывная величина A имеет равномерное распределение на промежутке (200, 800). Найдите ее среднее значение и дисперсию."
      ],
      "metadata": {
        "id": "rnsrQUEnYMZM"
      }
    },
    {
      "cell_type": "markdown",
      "source": [
        "Мат. ожидание найдем по формуле:\n",
        "\n",
        "M(x) = (a+b)/2\n",
        "\n",
        "Дисперсия:\n",
        "\n",
        "D = (b-a)**2/12"
      ],
      "metadata": {
        "id": "4CWX7LmUYwKa"
      }
    },
    {
      "cell_type": "code",
      "source": [
        "M = (200+800)/2\n",
        "print(M)"
      ],
      "metadata": {
        "colab": {
          "base_uri": "https://localhost:8080/"
        },
        "id": "wiiNClVTYQ_A",
        "outputId": "e72f7dfc-a577-4061-88d7-e64917bbfabb"
      },
      "execution_count": null,
      "outputs": [
        {
          "output_type": "stream",
          "name": "stdout",
          "text": [
            "500.0\n"
          ]
        }
      ]
    },
    {
      "cell_type": "code",
      "source": [
        "D = (800-200)**2/12\n",
        "print(D)"
      ],
      "metadata": {
        "colab": {
          "base_uri": "https://localhost:8080/"
        },
        "id": "NHZQdgPjZfGa",
        "outputId": "50d7fd29-d96e-4cd6-81b6-8c158d7d0bd5"
      },
      "execution_count": null,
      "outputs": [
        {
          "output_type": "stream",
          "name": "stdout",
          "text": [
            "30000.0\n"
          ]
        }
      ]
    },
    {
      "cell_type": "markdown",
      "source": [
        "Задача 2. О случайной непрерывной равномерно распределенной величине B известно, что ее дисперсия равна 0.2. Можно ли найти правую границу величины B и ее среднее значение зная, что левая граница равна 0.5? Если да, найдите ее."
      ],
      "metadata": {
        "id": "ZSOrj9l8aV_M"
      }
    },
    {
      "cell_type": "markdown",
      "source": [
        "Дисперсия:\n",
        "\n",
        "D = (b-a)**2/12\n",
        "\n",
        "0.5 = (b-0.5)**2/12\n",
        "\n",
        "0.5 * 12 = (b-0.5)**2\n",
        "\n",
        "2.4 = (b-0.5)**2"
      ],
      "metadata": {
        "id": "R82lBaDIipQu"
      }
    },
    {
      "cell_type": "code",
      "source": [
        "b = 0.5 + (2.4)**(1/2)\n",
        "print(f'Правая граница величины = {round(b,2)}')"
      ],
      "metadata": {
        "colab": {
          "base_uri": "https://localhost:8080/"
        },
        "id": "nYrSnC6lZ6MM",
        "outputId": "c99dd07b-3c95-441c-f9e7-c20742b9b464"
      },
      "execution_count": null,
      "outputs": [
        {
          "output_type": "stream",
          "name": "stdout",
          "text": [
            "Правая граница величины = 2.05\n"
          ]
        }
      ]
    },
    {
      "cell_type": "markdown",
      "source": [
        "Мат. ожидание:\n",
        "\n",
        "M(x) = (a+b)/2"
      ],
      "metadata": {
        "id": "qc2M0aEBj-Zl"
      }
    },
    {
      "cell_type": "code",
      "source": [
        "M = (0.5 + b)/2\n",
        "print(round(M, 2))"
      ],
      "metadata": {
        "colab": {
          "base_uri": "https://localhost:8080/"
        },
        "id": "LsyN55eMje-R",
        "outputId": "69ddcae0-e392-4f56-9493-ab6f3ceb85dd"
      },
      "execution_count": null,
      "outputs": [
        {
          "output_type": "stream",
          "name": "stdout",
          "text": [
            "1.27\n"
          ]
        }
      ]
    },
    {
      "cell_type": "markdown",
      "source": [
        "Задача 3. Непрерывная случайная величина X распределена нормально и задана плотностью распределения\n",
        "\n",
        "f(x) = (1 / (4 * sqrt(2pi))) * exp((-(x+2)**2) / 32)\n",
        "\n",
        "Найдите:\n",
        "\n",
        "а). M(X)\n",
        "\n",
        "б). D(X)\n",
        "\n",
        "в). std(X) (среднее квадратичное отклонение)"
      ],
      "metadata": {
        "id": "oxHUqJ5elmnM"
      }
    },
    {
      "cell_type": "code",
      "source": [
        "M = -2"
      ],
      "metadata": {
        "id": "XoRIjS--kG5Z"
      },
      "execution_count": null,
      "outputs": []
    },
    {
      "cell_type": "code",
      "source": [
        "D = 32/2\n",
        "print(D)"
      ],
      "metadata": {
        "colab": {
          "base_uri": "https://localhost:8080/"
        },
        "id": "_fZegPDomMTc",
        "outputId": "ac54678f-9703-416a-f3b1-b9d70e98ca83"
      },
      "execution_count": null,
      "outputs": [
        {
          "output_type": "stream",
          "name": "stdout",
          "text": [
            "16.0\n"
          ]
        }
      ]
    },
    {
      "cell_type": "code",
      "source": [
        "σ = 4"
      ],
      "metadata": {
        "id": "BjMabcK9mWS1"
      },
      "execution_count": null,
      "outputs": []
    },
    {
      "cell_type": "markdown",
      "source": [
        "Задача 4. Рост взрослого населения города X имеет нормальное распределение.\n",
        "Причем, средний рост равен 174 см, а среднее квадратичное отклонение равно 8 см.\n",
        "\n",
        "Какова вероятность того, что случайным образом выбранный взрослый человек имеет рост:\n",
        "\n",
        "а). больше 182 см\n",
        "\n",
        "б). больше 190 см\n",
        "\n",
        "в). от 166 см до 190 см\n",
        "\n",
        "г). от 166 см до 182 см\n",
        "\n",
        "д). от 158 см до 190 см\n",
        "\n",
        "е). не выше 150 см или не ниже 190 см\n",
        "\n",
        "ё). не выше 150 см или не ниже 198 см\n",
        "\n",
        "ж). ниже 166 см."
      ],
      "metadata": {
        "id": "5zSERH7km1ng"
      }
    },
    {
      "cell_type": "code",
      "source": [
        "from scipy import stats\n",
        "from statistics import NormalDist"
      ],
      "metadata": {
        "id": "6Ao83DRUmzbq"
      },
      "execution_count": null,
      "outputs": []
    },
    {
      "cell_type": "code",
      "source": [
        "def z_value(x, mu, sigma):\n",
        "    return (x - mu) / sigma"
      ],
      "metadata": {
        "id": "pPszzwvmq6vn"
      },
      "execution_count": null,
      "outputs": []
    },
    {
      "cell_type": "markdown",
      "source": [
        "a) больше 182 см:"
      ],
      "metadata": {
        "id": "qmHrb7Leq_9q"
      }
    },
    {
      "cell_type": "code",
      "source": [
        "PA = 1 - NormalDist().cdf(z_value(182, 174, 8))\n",
        "PA"
      ],
      "metadata": {
        "colab": {
          "base_uri": "https://localhost:8080/"
        },
        "id": "i9W2U0qTrCpL",
        "outputId": "258a8f6f-598f-4077-9b00-0049988e9722"
      },
      "execution_count": null,
      "outputs": [
        {
          "output_type": "execute_result",
          "data": {
            "text/plain": [
              "0.15865525393145707"
            ]
          },
          "metadata": {},
          "execution_count": 41
        }
      ]
    },
    {
      "cell_type": "markdown",
      "source": [
        "б) больше 190 см:"
      ],
      "metadata": {
        "id": "hkI5NGCCrMo2"
      }
    },
    {
      "cell_type": "code",
      "source": [
        "PB = 1 - stats.norm.cdf(190, 174, 8)\n",
        "PB"
      ],
      "metadata": {
        "colab": {
          "base_uri": "https://localhost:8080/"
        },
        "id": "lGfUD0gKrJE4",
        "outputId": "48dd5629-8ac2-4596-8fa3-bd2ae7aaebaa"
      },
      "execution_count": null,
      "outputs": [
        {
          "output_type": "execute_result",
          "data": {
            "text/plain": [
              "0.02275013194817921"
            ]
          },
          "metadata": {},
          "execution_count": 27
        }
      ]
    },
    {
      "cell_type": "markdown",
      "source": [
        "в) от 166 см до 190 см"
      ],
      "metadata": {
        "id": "Ev4dgbDErZMm"
      }
    },
    {
      "cell_type": "code",
      "source": [
        "ZC1 = NormalDist().cdf(z_value(166, 174, 8))\n",
        "ZC1"
      ],
      "metadata": {
        "colab": {
          "base_uri": "https://localhost:8080/"
        },
        "id": "dFUdlVj2rPO0",
        "outputId": "adfb398c-55c7-49a5-ca4a-06645bad0e56"
      },
      "execution_count": null,
      "outputs": [
        {
          "output_type": "execute_result",
          "data": {
            "text/plain": [
              "0.15865525393145707"
            ]
          },
          "metadata": {},
          "execution_count": 43
        }
      ]
    },
    {
      "cell_type": "code",
      "source": [
        "ZC2 = NormalDist().cdf(z_value(190, 174, 8))\n",
        "ZC2"
      ],
      "metadata": {
        "colab": {
          "base_uri": "https://localhost:8080/"
        },
        "id": "s21gTGI9rb5K",
        "outputId": "e09690bb-5d27-4a64-e909-f5e407b6f752"
      },
      "execution_count": null,
      "outputs": [
        {
          "output_type": "execute_result",
          "data": {
            "text/plain": [
              "0.02275013194817921"
            ]
          },
          "metadata": {},
          "execution_count": 42
        }
      ]
    },
    {
      "cell_type": "code",
      "source": [
        "PC = ZC2 - ZC1\n",
        "PC"
      ],
      "metadata": {
        "colab": {
          "base_uri": "https://localhost:8080/"
        },
        "id": "XgkxBIq9rgWE",
        "outputId": "ac319e2e-6497-4fbe-89a8-bdde04e2e708"
      },
      "execution_count": null,
      "outputs": [
        {
          "output_type": "execute_result",
          "data": {
            "text/plain": [
              "0.8185946141203637"
            ]
          },
          "metadata": {},
          "execution_count": 34
        }
      ]
    },
    {
      "cell_type": "markdown",
      "source": [
        "г) от 166 см до 182 см"
      ],
      "metadata": {
        "id": "vZGL8ty3rvz2"
      }
    },
    {
      "cell_type": "code",
      "source": [
        "PD = stats.norm.cdf(182, 174, 8) - stats.norm.cdf(166, 174, 8)\n",
        "PD"
      ],
      "metadata": {
        "colab": {
          "base_uri": "https://localhost:8080/"
        },
        "id": "mOfAczFyroZz",
        "outputId": "c9df1b51-586b-419f-f260-cbee6b7e357f"
      },
      "execution_count": null,
      "outputs": [
        {
          "output_type": "execute_result",
          "data": {
            "text/plain": [
              "0.6826894921370859"
            ]
          },
          "metadata": {},
          "execution_count": 35
        }
      ]
    },
    {
      "cell_type": "markdown",
      "source": [
        "д) от 158 см до 190 см"
      ],
      "metadata": {
        "id": "gtsad-g0r3FJ"
      }
    },
    {
      "cell_type": "code",
      "source": [
        "PE = stats.norm.cdf(190, 174, 8) - stats.norm.cdf(158, 174, 8)\n",
        "PE"
      ],
      "metadata": {
        "colab": {
          "base_uri": "https://localhost:8080/"
        },
        "id": "VUaZFpPGr2Tw",
        "outputId": "de86729f-6773-4753-cb66-8373a81bd2dc"
      },
      "execution_count": null,
      "outputs": [
        {
          "output_type": "execute_result",
          "data": {
            "text/plain": [
              "0.9544997361036416"
            ]
          },
          "metadata": {},
          "execution_count": 36
        }
      ]
    },
    {
      "cell_type": "markdown",
      "source": [
        "е) не выше 150 см или не ниже 190 см"
      ],
      "metadata": {
        "id": "Mj_soNLwr_OE"
      }
    },
    {
      "cell_type": "code",
      "source": [
        "PF = NormalDist().cdf(z_value(150, 174, 8)) + (1 - NormalDist().cdf(z_value(190, 174, 8)))\n",
        "PF"
      ],
      "metadata": {
        "colab": {
          "base_uri": "https://localhost:8080/"
        },
        "id": "n4V9BlgYr8yO",
        "outputId": "1a0112ec-2297-43d0-971d-c1a9c5471456"
      },
      "execution_count": null,
      "outputs": [
        {
          "output_type": "execute_result",
          "data": {
            "text/plain": [
              "0.024100029979809312"
            ]
          },
          "metadata": {},
          "execution_count": 37
        }
      ]
    },
    {
      "cell_type": "markdown",
      "source": [
        "ё) не выше 150 см или не ниже 198 см"
      ],
      "metadata": {
        "id": "a9TxMrNssU59"
      }
    },
    {
      "cell_type": "code",
      "source": [
        "PG = stats.norm.cdf(150, 174, 8) + (1 - stats.norm.cdf(198, 174, 8))\n",
        "PG"
      ],
      "metadata": {
        "colab": {
          "base_uri": "https://localhost:8080/"
        },
        "id": "1m6Oe7visRnJ",
        "outputId": "356b20ef-f735-44dd-ee7b-2263c53ea873"
      },
      "execution_count": null,
      "outputs": [
        {
          "output_type": "execute_result",
          "data": {
            "text/plain": [
              "0.0026997960632601965"
            ]
          },
          "metadata": {},
          "execution_count": 38
        }
      ]
    },
    {
      "cell_type": "markdown",
      "source": [
        "ж) ниже 166 см"
      ],
      "metadata": {
        "id": "hoZakj2esbQo"
      }
    },
    {
      "cell_type": "code",
      "source": [
        "PH = stats.norm.cdf(166, 174, 8)\n",
        "PH"
      ],
      "metadata": {
        "colab": {
          "base_uri": "https://localhost:8080/"
        },
        "id": "XmbXQbSQsY8g",
        "outputId": "2f046642-623b-40c7-cf4b-ca8c40f6b1c5"
      },
      "execution_count": null,
      "outputs": [
        {
          "output_type": "execute_result",
          "data": {
            "text/plain": [
              "0.15865525393145707"
            ]
          },
          "metadata": {},
          "execution_count": 40
        }
      ]
    },
    {
      "cell_type": "markdown",
      "source": [
        "Задача 5. На сколько сигм (средних квадратичных отклонений) отклоняется рост человека, равный 190 см, от математического ожидания роста в популяции, в которой M(X) = 178 см и D(X) = 25 кв.см?"
      ],
      "metadata": {
        "id": "8vGfT9rgvcAK"
      }
    },
    {
      "cell_type": "code",
      "source": [
        "σ = np.sqrt(25)\n",
        "σ"
      ],
      "metadata": {
        "colab": {
          "base_uri": "https://localhost:8080/"
        },
        "id": "Br5aMB1zsd7o",
        "outputId": "52d49033-cb2c-40d5-d1ff-31b73973cc55"
      },
      "execution_count": null,
      "outputs": [
        {
          "output_type": "execute_result",
          "data": {
            "text/plain": [
              "5.0"
            ]
          },
          "metadata": {},
          "execution_count": 44
        }
      ]
    },
    {
      "cell_type": "code",
      "source": [
        "x = (190-178)/σ\n",
        "x"
      ],
      "metadata": {
        "colab": {
          "base_uri": "https://localhost:8080/"
        },
        "id": "41edA7Q5v9W9",
        "outputId": "1286047b-7c42-47e7-fb1d-4d290ad2f796"
      },
      "execution_count": null,
      "outputs": [
        {
          "output_type": "execute_result",
          "data": {
            "text/plain": [
              "2.4"
            ]
          },
          "metadata": {},
          "execution_count": 45
        }
      ]
    },
    {
      "cell_type": "markdown",
      "source": [
        "Отклонение составит 2,4 сигмы"
      ],
      "metadata": {
        "id": "0qQeoy7owUxc"
      }
    }
  ]
}