{
  "nbformat": 4,
  "nbformat_minor": 0,
  "metadata": {
    "colab": {
      "provenance": []
    },
    "kernelspec": {
      "name": "python3",
      "display_name": "Python 3"
    },
    "language_info": {
      "name": "python"
    }
  },
  "cells": [
    {
      "cell_type": "code",
      "execution_count": null,
      "metadata": {
        "id": "bjPERzGBtiuW"
      },
      "outputs": [],
      "source": [
        "import numpy as np"
      ]
    },
    {
      "cell_type": "markdown",
      "source": [
        "Задача 1. Когда используется критерий Стьюдента, а когда Z –критерий?"
      ],
      "metadata": {
        "id": "ZBfyznkurIPJ"
      }
    },
    {
      "cell_type": "markdown",
      "source": [
        "Z-критерий используется, когда известна сигма генеральной совокупности. Критерий Стьюдента же используется, когда сигма не известна."
      ],
      "metadata": {
        "id": "Cft5oy_hrjkQ"
      }
    },
    {
      "cell_type": "markdown",
      "source": [
        "Задачи 2 и 3 решать вручную."
      ],
      "metadata": {
        "id": "ZrxTPTbar3xQ"
      }
    },
    {
      "cell_type": "markdown",
      "source": [
        "Задача 2. Проведите тест гипотезы. Утверждается, что шарики для подшипников, изготовленные автоматическим станком, имеют средний диаметр 17 мм. Используя односторонний критерий с α=0,05, проверить эту гипотезу, если в выборке из n=100 шариков средний диаметр оказался равным 17.5 мм, а дисперсия известна и равна 4 кв. мм."
      ],
      "metadata": {
        "id": "gw50Twkrr7kF"
      }
    },
    {
      "cell_type": "markdown",
      "source": [
        "Воспользуемся формулой\n",
        "\n",
        "Z = (x̅ - μ)/(σ/n**(1/2))"
      ],
      "metadata": {
        "id": "Z6dyN2QUsRca"
      }
    },
    {
      "cell_type": "code",
      "source": [
        "x_mean = 17.5"
      ],
      "metadata": {
        "id": "otK_bJxOrHOd"
      },
      "execution_count": null,
      "outputs": []
    },
    {
      "cell_type": "code",
      "source": [
        "mu = 17"
      ],
      "metadata": {
        "id": "bYK5TgYYtHNp"
      },
      "execution_count": null,
      "outputs": []
    },
    {
      "cell_type": "code",
      "source": [
        "alpha = 0.05"
      ],
      "metadata": {
        "id": "V_x6RyjQtNM-"
      },
      "execution_count": null,
      "outputs": []
    },
    {
      "cell_type": "code",
      "source": [
        "sigma = np.sqrt(4)\n",
        "sigma"
      ],
      "metadata": {
        "colab": {
          "base_uri": "https://localhost:8080/"
        },
        "id": "P_0U5X4ntSDr",
        "outputId": "1554980e-4738-4c31-e66c-cc08072adb3d"
      },
      "execution_count": null,
      "outputs": [
        {
          "output_type": "execute_result",
          "data": {
            "text/plain": [
              "2.0"
            ]
          },
          "metadata": {},
          "execution_count": 7
        }
      ]
    },
    {
      "cell_type": "code",
      "source": [
        "n = 100"
      ],
      "metadata": {
        "id": "55rlEGQDtyuc"
      },
      "execution_count": null,
      "outputs": []
    },
    {
      "cell_type": "code",
      "source": [
        "Z = (x_mean - mu)/(sigma/np.sqrt(n))\n",
        "Z"
      ],
      "metadata": {
        "colab": {
          "base_uri": "https://localhost:8080/"
        },
        "id": "TekfkX40tdug",
        "outputId": "1fa3c734-31c9-47a3-cc60-ac9a8d6829e2"
      },
      "execution_count": null,
      "outputs": [
        {
          "output_type": "execute_result",
          "data": {
            "text/plain": [
              "2.5"
            ]
          },
          "metadata": {},
          "execution_count": 10
        }
      ]
    },
    {
      "cell_type": "code",
      "source": [
        "z_critical = 1.65"
      ],
      "metadata": {
        "id": "w20FK975t0wm"
      },
      "execution_count": null,
      "outputs": []
    },
    {
      "cell_type": "markdown",
      "source": [
        "Так как, Z > z_critical, можно сделать вывод о том, что нулевая гипотеза не верна."
      ],
      "metadata": {
        "id": "_zPhKwAlyQ6h"
      }
    },
    {
      "cell_type": "markdown",
      "source": [
        "Задача 3. Проведите тест гипотезы. Продавец утверждает, что средний вес пачки печенья составляет 200 г. Из партии извлечена выборка из 10 пачек. Вес каждой пачки составляет: 202, 203, 199, 197, 195, 201, 200, 204, 194, 190. Известно, что их веса распределены нормально. Верно ли утверждение продавца, если учитывать, что доверительная вероятность равна 99%? (Провести двусторонний тест.)"
      ],
      "metadata": {
        "id": "LpgfMwdoy3nS"
      }
    },
    {
      "cell_type": "code",
      "source": [
        "mu = 200"
      ],
      "metadata": {
        "id": "ndZtOiBkx4nj"
      },
      "execution_count": null,
      "outputs": []
    },
    {
      "cell_type": "code",
      "source": [
        "n = 10"
      ],
      "metadata": {
        "id": "yb2C-6_lzDsS"
      },
      "execution_count": null,
      "outputs": []
    },
    {
      "cell_type": "code",
      "source": [
        "x = np.array([202, 203, 199, 197, 195, 201, 200, 204, 194, 190])\n",
        "x_mean = np.mean(x)\n",
        "x_mean"
      ],
      "metadata": {
        "colab": {
          "base_uri": "https://localhost:8080/"
        },
        "id": "yHKK_vjozGQY",
        "outputId": "8a14edc0-643d-4ffa-fb48-5af7552c8f27"
      },
      "execution_count": null,
      "outputs": [
        {
          "output_type": "execute_result",
          "data": {
            "text/plain": [
              "198.5"
            ]
          },
          "metadata": {},
          "execution_count": 14
        }
      ]
    },
    {
      "cell_type": "code",
      "source": [
        "alpha_1 = 0.005"
      ],
      "metadata": {
        "id": "42tiuh64zaCy"
      },
      "execution_count": null,
      "outputs": []
    },
    {
      "cell_type": "code",
      "source": [
        "alpha_2 = 1-0.005\n",
        "alpha_2"
      ],
      "metadata": {
        "colab": {
          "base_uri": "https://localhost:8080/"
        },
        "id": "KLMAylQa4jyf",
        "outputId": "39fab68b-75b9-449a-abd1-6c38712b39a0"
      },
      "execution_count": null,
      "outputs": [
        {
          "output_type": "execute_result",
          "data": {
            "text/plain": [
              "0.995"
            ]
          },
          "metadata": {},
          "execution_count": 19
        }
      ]
    },
    {
      "cell_type": "code",
      "source": [
        "sigma = np.sqrt(np.var(x, ddof = 1))\n",
        "sigma"
      ],
      "metadata": {
        "colab": {
          "base_uri": "https://localhost:8080/"
        },
        "id": "K_t_O6hFzgDC",
        "outputId": "36049496-b867-44d2-cb64-32f0d9ed16b9"
      },
      "execution_count": null,
      "outputs": [
        {
          "output_type": "execute_result",
          "data": {
            "text/plain": [
              "4.453463071962462"
            ]
          },
          "metadata": {},
          "execution_count": 16
        }
      ]
    },
    {
      "cell_type": "markdown",
      "source": [
        "Воспользуемся формулой\n",
        "\n",
        "tн = (x̅ - μ)/(σн/n**(1/2))"
      ],
      "metadata": {
        "id": "dkHMNAaM0M3B"
      }
    },
    {
      "cell_type": "code",
      "source": [
        "t = (x_mean - mu)/(sigma/np.sqrt(n))\n",
        "t"
      ],
      "metadata": {
        "colab": {
          "base_uri": "https://localhost:8080/"
        },
        "id": "0CLWx7R40I2T",
        "outputId": "97415e50-1ddb-4a21-aada-4cf8346aec55"
      },
      "execution_count": null,
      "outputs": [
        {
          "output_type": "execute_result",
          "data": {
            "text/plain": [
              "-1.0651074037450896"
            ]
          },
          "metadata": {},
          "execution_count": 17
        }
      ]
    },
    {
      "cell_type": "markdown",
      "source": [
        "Найдем критические регионы с помощью таблицы Стьюдента."
      ],
      "metadata": {
        "id": "kGhBVa5S4828"
      }
    },
    {
      "cell_type": "code",
      "source": [
        "z_critical_1 = 3.25"
      ],
      "metadata": {
        "id": "3rK8Zd-f0zuS"
      },
      "execution_count": null,
      "outputs": []
    },
    {
      "cell_type": "code",
      "source": [
        "z_critical_2 = 3.69"
      ],
      "metadata": {
        "id": "A5Zig_IO5H-9"
      },
      "execution_count": null,
      "outputs": []
    },
    {
      "cell_type": "markdown",
      "source": [
        "t < z_critical_1, значит утверждение продавца не верно."
      ],
      "metadata": {
        "id": "bpEcgrpo6o0r"
      }
    },
    {
      "cell_type": "markdown",
      "source": [
        "Задачу 4 решать с помощью функции."
      ],
      "metadata": {
        "id": "MwtvrANy7u2V"
      }
    },
    {
      "cell_type": "markdown",
      "source": [
        "Задача 4. Есть ли статистически значимые различия в росте дочерей? Рост матерей 172, 177, 158, 170, 178,175, 164, 160, 169, 165 Рост взрослых дочерей: 173, 175, 162, 174, 175, 168, 155, 170, 160"
      ],
      "metadata": {
        "id": "Hg9XKvVL70bH"
      }
    },
    {
      "cell_type": "code",
      "source": [
        "import scipy.stats as stats"
      ],
      "metadata": {
        "id": "PpMgbXZA9x-f"
      },
      "execution_count": null,
      "outputs": []
    },
    {
      "cell_type": "code",
      "source": [
        "arr1 = [172, 177, 158, 170, 178, 175, 164, 160, 169, 165]\n",
        "arr2 = [173, 175, 162, 174, 175, 168, 155, 170, 160, 163]\n",
        "\n",
        "stats.ttest_rel(arr1, arr2)"
      ],
      "metadata": {
        "colab": {
          "base_uri": "https://localhost:8080/"
        },
        "id": "510bt3do-Zko",
        "outputId": "245b86e4-9abc-492f-e28a-716129d94b1e"
      },
      "execution_count": null,
      "outputs": [
        {
          "output_type": "execute_result",
          "data": {
            "text/plain": [
              "TtestResult(statistic=0.6648478531431979, pvalue=0.5228168632983574, df=9)"
            ]
          },
          "metadata": {},
          "execution_count": 35
        }
      ]
    },
    {
      "cell_type": "markdown",
      "source": [
        "Так как p-value > alpha (равен 0.05), статистически значимых различий нет."
      ],
      "metadata": {
        "id": "vAAfYW3__BR7"
      }
    }
  ]
}