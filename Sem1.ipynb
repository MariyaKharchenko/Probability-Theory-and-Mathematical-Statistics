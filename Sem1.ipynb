{
  "nbformat": 4,
  "nbformat_minor": 0,
  "metadata": {
    "colab": {
      "provenance": []
    },
    "kernelspec": {
      "name": "python3",
      "display_name": "Python 3"
    },
    "language_info": {
      "name": "python"
    }
  },
  "cells": [
    {
      "cell_type": "code",
      "execution_count": null,
      "metadata": {
        "id": "GFLKQU0yS7hs"
      },
      "outputs": [],
      "source": [
        "import numpy as np\n",
        "import math\n",
        "from math import factorial"
      ]
    },
    {
      "cell_type": "markdown",
      "source": [
        "Задача 1.\n",
        "Из колоды в 52 карты извлекаются случайным образом 4 карты.\n",
        "a) Найти вероятность того, что все карты – крести.\n",
        "б) Найти вероятность, что среди 4-х карт окажется хотя бы один туз."
      ],
      "metadata": {
        "id": "m1EGx_gDS9tZ"
      }
    },
    {
      "cell_type": "markdown",
      "source": [],
      "metadata": {
        "id": "ZZwIu-K3TCkQ"
      }
    },
    {
      "cell_type": "markdown",
      "source": [
        "а)."
      ],
      "metadata": {
        "id": "H3FnpiyuTDJy"
      }
    },
    {
      "cell_type": "markdown",
      "source": [
        "C(nk) = n!/(k!*(n - k)!)\n",
        "\n",
        "P(A)=m/n"
      ],
      "metadata": {
        "id": "KuV5drhqTIOT"
      }
    },
    {
      "cell_type": "code",
      "source": [
        "def combinations (k,n):\n",
        "  return math.factorial(n)//(math.factorial(k)*math.factorial(n-k))"
      ],
      "metadata": {
        "id": "dx3rgFc5TGJ9"
      },
      "execution_count": null,
      "outputs": []
    },
    {
      "cell_type": "code",
      "source": [
        "m = combinations(4,13)"
      ],
      "metadata": {
        "id": "Ev-8jITKU02c"
      },
      "execution_count": null,
      "outputs": []
    },
    {
      "cell_type": "code",
      "source": [
        "print(m)"
      ],
      "metadata": {
        "colab": {
          "base_uri": "https://localhost:8080/"
        },
        "id": "UfrCphRZWhor",
        "outputId": "7b8d7ef0-cf30-4aca-e4e8-ea70cb672a45"
      },
      "execution_count": null,
      "outputs": [
        {
          "output_type": "stream",
          "name": "stdout",
          "text": [
            "715\n"
          ]
        }
      ]
    },
    {
      "cell_type": "code",
      "source": [
        "n = combinations(4, 52)"
      ],
      "metadata": {
        "id": "YW7RJJPtWkFm"
      },
      "execution_count": null,
      "outputs": []
    },
    {
      "cell_type": "code",
      "source": [
        "print(n)"
      ],
      "metadata": {
        "colab": {
          "base_uri": "https://localhost:8080/"
        },
        "id": "9r0s-PunWrzz",
        "outputId": "cff0f62f-0089-480b-a7fc-cdb55e91d4b2"
      },
      "execution_count": null,
      "outputs": [
        {
          "output_type": "stream",
          "name": "stdout",
          "text": [
            "270725\n"
          ]
        }
      ]
    },
    {
      "cell_type": "code",
      "source": [
        "P = m/n"
      ],
      "metadata": {
        "id": "C7aaDzP2Wtq9"
      },
      "execution_count": null,
      "outputs": []
    },
    {
      "cell_type": "code",
      "source": [
        "print(P)"
      ],
      "metadata": {
        "colab": {
          "base_uri": "https://localhost:8080/"
        },
        "id": "uvVK1389W9QV",
        "outputId": "8273ef06-e398-4ae6-9024-bc72c148a2c9"
      },
      "execution_count": null,
      "outputs": [
        {
          "output_type": "stream",
          "name": "stdout",
          "text": [
            "0.0026410564225690276\n"
          ]
        }
      ]
    },
    {
      "cell_type": "markdown",
      "source": [
        "Вероятность того, что все извлеченные карты крести = 0,26%"
      ],
      "metadata": {
        "id": "mmW1I83ybMJz"
      }
    },
    {
      "cell_type": "markdown",
      "source": [
        "б)."
      ],
      "metadata": {
        "id": "nbHeXaHGXZWT"
      }
    },
    {
      "cell_type": "code",
      "source": [
        "m = sum([combinations(1,4)*combinations(3, 48), combinations(2, 4)*combinations(2, 48), combinations(3, 4)*combinations(1, 48), 1])"
      ],
      "metadata": {
        "id": "zG_fY0j5XcHn"
      },
      "execution_count": null,
      "outputs": []
    },
    {
      "cell_type": "code",
      "source": [
        "print(m)"
      ],
      "metadata": {
        "colab": {
          "base_uri": "https://localhost:8080/"
        },
        "id": "0XAciG_lX-Es",
        "outputId": "0abd12fb-c50e-4ed3-9747-0e671e5bf9d7"
      },
      "execution_count": null,
      "outputs": [
        {
          "output_type": "stream",
          "name": "stdout",
          "text": [
            "76145\n"
          ]
        }
      ]
    },
    {
      "cell_type": "code",
      "source": [
        "n = combinations(4, 52)"
      ],
      "metadata": {
        "id": "Nh_V92B7YSSd"
      },
      "execution_count": null,
      "outputs": []
    },
    {
      "cell_type": "code",
      "source": [
        "print(n)"
      ],
      "metadata": {
        "colab": {
          "base_uri": "https://localhost:8080/"
        },
        "id": "g9cCbQY-Ye3r",
        "outputId": "8398ecdd-47d9-4944-aa37-cb0a72555df3"
      },
      "execution_count": null,
      "outputs": [
        {
          "output_type": "stream",
          "name": "stdout",
          "text": [
            "270725\n"
          ]
        }
      ]
    },
    {
      "cell_type": "code",
      "source": [
        "P = m/n"
      ],
      "metadata": {
        "id": "cWNDShemYgU8"
      },
      "execution_count": null,
      "outputs": []
    },
    {
      "cell_type": "code",
      "source": [
        "print(P)"
      ],
      "metadata": {
        "colab": {
          "base_uri": "https://localhost:8080/"
        },
        "id": "OFDUrvoMYjCp",
        "outputId": "9aca5c53-5668-40c4-c5ea-d94107495137"
      },
      "execution_count": null,
      "outputs": [
        {
          "output_type": "stream",
          "name": "stdout",
          "text": [
            "0.2812632745405855\n"
          ]
        }
      ]
    },
    {
      "cell_type": "markdown",
      "source": [
        "Вероятность того, что среди 4 карт окажется хотябы один туз = 28%"
      ],
      "metadata": {
        "id": "gzozQuUBbWWo"
      }
    },
    {
      "cell_type": "markdown",
      "source": [
        "Задача 2.\n",
        "На входной двери подъезда установлен кодовый замок, содержащий десять кнопок с цифрами от 0 до 9. Код содержит три цифры, которые нужно нажать одновременно. Какова вероятность того, что человек, не знающий код, откроет дверь с первой попытки?"
      ],
      "metadata": {
        "id": "AR-RQ7ebYruw"
      }
    },
    {
      "cell_type": "markdown",
      "source": [
        "C(nk) = n!/(k!*(n - k)!)\n",
        "\n",
        "P(A)=m/n"
      ],
      "metadata": {
        "id": "T2Mk4lNtZYFt"
      }
    },
    {
      "cell_type": "code",
      "source": [
        "m = 1"
      ],
      "metadata": {
        "id": "AT5uWDSYZZRM"
      },
      "execution_count": null,
      "outputs": []
    },
    {
      "cell_type": "code",
      "source": [
        "n = combinations(3, 10)"
      ],
      "metadata": {
        "id": "NBEecQKmZbyb"
      },
      "execution_count": null,
      "outputs": []
    },
    {
      "cell_type": "code",
      "source": [
        "print(n)"
      ],
      "metadata": {
        "colab": {
          "base_uri": "https://localhost:8080/"
        },
        "id": "mBmKYGUtZfu8",
        "outputId": "24b5366b-458e-41ce-b74b-440f79339fc2"
      },
      "execution_count": null,
      "outputs": [
        {
          "output_type": "stream",
          "name": "stdout",
          "text": [
            "120\n"
          ]
        }
      ]
    },
    {
      "cell_type": "code",
      "source": [
        "P = m/n"
      ],
      "metadata": {
        "id": "SOgkgzWvZhyv"
      },
      "execution_count": null,
      "outputs": []
    },
    {
      "cell_type": "code",
      "source": [
        "print(P)"
      ],
      "metadata": {
        "colab": {
          "base_uri": "https://localhost:8080/"
        },
        "id": "E_zCX2GgZlDW",
        "outputId": "becc6df8-d08a-4ceb-bead-7b3e7eb16192"
      },
      "execution_count": null,
      "outputs": [
        {
          "output_type": "stream",
          "name": "stdout",
          "text": [
            "0.008333333333333333\n"
          ]
        }
      ]
    },
    {
      "cell_type": "markdown",
      "source": [
        "0.83% - вероятность открыть дверь с первой попытки"
      ],
      "metadata": {
        "id": "A3vBRKZTZzGx"
      }
    },
    {
      "cell_type": "markdown",
      "source": [
        "Задача 3.\n",
        "В ящике имеется 15 деталей, из которых 9 окрашены. Рабочий случайным образом извлекает 3 детали. Какова вероятность того, что все извлеченные детали окрашены?"
      ],
      "metadata": {
        "id": "k0r5juK3Z9Ce"
      }
    },
    {
      "cell_type": "markdown",
      "source": [
        "C(nk) = n!/(k!*(n - k)!)\n",
        "\n",
        "P(A)=m/n"
      ],
      "metadata": {
        "id": "rlAVnZu2ajZ4"
      }
    },
    {
      "cell_type": "code",
      "source": [
        "m = combinations(3, 9)"
      ],
      "metadata": {
        "id": "Ierr6uTPakEo"
      },
      "execution_count": null,
      "outputs": []
    },
    {
      "cell_type": "code",
      "source": [
        "print(m)"
      ],
      "metadata": {
        "colab": {
          "base_uri": "https://localhost:8080/"
        },
        "id": "DZuJ2WInarQE",
        "outputId": "694a381a-052e-4d9d-d8d4-86b33723c43d"
      },
      "execution_count": null,
      "outputs": [
        {
          "output_type": "stream",
          "name": "stdout",
          "text": [
            "84\n"
          ]
        }
      ]
    },
    {
      "cell_type": "code",
      "source": [
        "n = combinations(3, 15)"
      ],
      "metadata": {
        "id": "O9FJe5qoasoo"
      },
      "execution_count": null,
      "outputs": []
    },
    {
      "cell_type": "code",
      "source": [
        "print(n)"
      ],
      "metadata": {
        "colab": {
          "base_uri": "https://localhost:8080/"
        },
        "id": "EdjKmbhCawcG",
        "outputId": "5fa35a1a-1a3f-4652-9c25-a7cbe402db88"
      },
      "execution_count": null,
      "outputs": [
        {
          "output_type": "stream",
          "name": "stdout",
          "text": [
            "455\n"
          ]
        }
      ]
    },
    {
      "cell_type": "code",
      "source": [
        "P = m/n"
      ],
      "metadata": {
        "id": "UMOAQP-laxoZ"
      },
      "execution_count": null,
      "outputs": []
    },
    {
      "cell_type": "code",
      "source": [
        "print(P)"
      ],
      "metadata": {
        "colab": {
          "base_uri": "https://localhost:8080/"
        },
        "id": "2wCV-HHEazd6",
        "outputId": "4a7c3e2f-a7be-49e3-dc1b-2ac7e10b8349"
      },
      "execution_count": null,
      "outputs": [
        {
          "output_type": "stream",
          "name": "stdout",
          "text": [
            "0.18461538461538463\n"
          ]
        }
      ]
    },
    {
      "cell_type": "markdown",
      "source": [
        "Вероятность того, что все извлеченные детали окрашены - 18,46%"
      ],
      "metadata": {
        "id": "tAe1-1Jga76D"
      }
    },
    {
      "cell_type": "markdown",
      "source": [
        "Задача 4.\n",
        "В лотерее 100 билетов. Из них 2 выигрышных. Какова вероятность того, что 2 приобретенных билета окажутся выигрышными?"
      ],
      "metadata": {
        "id": "pnL68hpebjZQ"
      }
    },
    {
      "cell_type": "markdown",
      "source": [
        "C(nk) = n!/(k!*(n - k)!)\n",
        "\n",
        "P(A)=m/n"
      ],
      "metadata": {
        "id": "kkfO-_XNb20M"
      }
    },
    {
      "cell_type": "code",
      "source": [
        "m = 1"
      ],
      "metadata": {
        "id": "Es8zPDQUa01X"
      },
      "execution_count": null,
      "outputs": []
    },
    {
      "cell_type": "code",
      "source": [
        "n = combinations(2, 100)"
      ],
      "metadata": {
        "id": "_w7XAljkcEC-"
      },
      "execution_count": null,
      "outputs": []
    },
    {
      "cell_type": "code",
      "source": [
        "print(n)"
      ],
      "metadata": {
        "colab": {
          "base_uri": "https://localhost:8080/"
        },
        "id": "ABTT9aRBcHbj",
        "outputId": "3582ceb0-c093-435b-b007-159bfa4b8d43"
      },
      "execution_count": null,
      "outputs": [
        {
          "output_type": "stream",
          "name": "stdout",
          "text": [
            "4950\n"
          ]
        }
      ]
    },
    {
      "cell_type": "code",
      "source": [
        "P = m/n"
      ],
      "metadata": {
        "id": "GfU-MBrdcJGW"
      },
      "execution_count": null,
      "outputs": []
    },
    {
      "cell_type": "code",
      "source": [
        "print(P)"
      ],
      "metadata": {
        "colab": {
          "base_uri": "https://localhost:8080/"
        },
        "id": "eemvlHQlcLEW",
        "outputId": "511f61f6-5a0a-4e48-9e63-254df6c64e52"
      },
      "execution_count": null,
      "outputs": [
        {
          "output_type": "stream",
          "name": "stdout",
          "text": [
            "0.00020202020202020202\n"
          ]
        }
      ]
    },
    {
      "cell_type": "markdown",
      "source": [
        "0,02% - вероятность того, что 2 приобретенных билета окажутся выигрышными"
      ],
      "metadata": {
        "id": "DrYdmBOxcdlI"
      }
    }
  ]
}