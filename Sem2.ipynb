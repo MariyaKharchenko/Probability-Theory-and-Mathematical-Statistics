{
  "nbformat": 4,
  "nbformat_minor": 0,
  "metadata": {
    "colab": {
      "provenance": []
    },
    "kernelspec": {
      "name": "python3",
      "display_name": "Python 3"
    },
    "language_info": {
      "name": "python"
    }
  },
  "cells": [
    {
      "cell_type": "code",
      "source": [
        "import numpy as np"
      ],
      "metadata": {
        "id": "uxFmeaedHUPP"
      },
      "execution_count": null,
      "outputs": []
    },
    {
      "cell_type": "code",
      "source": [
        "import math\n",
        "from math import factorial"
      ],
      "metadata": {
        "id": "O_dkd32tHZx_"
      },
      "execution_count": null,
      "outputs": []
    },
    {
      "cell_type": "markdown",
      "source": [
        "Задача 1. Даны значения зарплат из выборки выпускников: 100, 80, 75, 77, 89, 33, 45, 25, 65, 17, 30, 24, 57, 55, 70, 75, 65, 84, 90, 150. Посчитать (желательно без использования статистических методов наподобие std, var, mean) среднее арифметическое, среднее квадратичное отклонение, смещенную и несмещенную оценки дисперсий для данной выборки."
      ],
      "metadata": {
        "id": "olaxf-jDHqK_"
      }
    },
    {
      "cell_type": "code",
      "source": [
        "x = np.array([100, 80, 75, 77, 89, 33, 45, 25, 65, 17, 30, 24, 57, 55, 70, 75, 65, 84, 90, 150])"
      ],
      "metadata": {
        "id": "IuipzfhjHktO"
      },
      "execution_count": null,
      "outputs": []
    },
    {
      "cell_type": "markdown",
      "source": [
        "Найдем среднее арифметическое:"
      ],
      "metadata": {
        "id": "PJBSLswLKkeK"
      }
    },
    {
      "cell_type": "code",
      "source": [
        "x_mean = sum(x)/len(x)\n",
        "print(x_mean)"
      ],
      "metadata": {
        "colab": {
          "base_uri": "https://localhost:8080/"
        },
        "id": "zKIvVlRXIb1s",
        "outputId": "5aba9295-eb60-4095-bb86-14187c713c6a"
      },
      "execution_count": null,
      "outputs": [
        {
          "output_type": "stream",
          "name": "stdout",
          "text": [
            "65.3\n"
          ]
        }
      ]
    },
    {
      "cell_type": "markdown",
      "source": [
        "Найдем среднее квадратичное отклонение:"
      ],
      "metadata": {
        "id": "umLfOrIOKqsM"
      }
    },
    {
      "cell_type": "code",
      "source": [
        "def mean_square_deviation(x):\n",
        "    square_deviation = (x - x_mean) ** 2\n",
        "    return (sum(square_deviation) / (len(square_deviation) - 1)) ** (1/2)"
      ],
      "metadata": {
        "id": "HU2q-s85I6gZ"
      },
      "execution_count": null,
      "outputs": []
    },
    {
      "cell_type": "code",
      "source": [
        "print(round(mean_square_deviation(x), 2))"
      ],
      "metadata": {
        "colab": {
          "base_uri": "https://localhost:8080/"
        },
        "id": "UlUpG8aUKDmV",
        "outputId": "aa0bfc4c-85c3-4137-9f5c-d3957828f871"
      },
      "execution_count": null,
      "outputs": [
        {
          "output_type": "stream",
          "name": "stdout",
          "text": [
            "31.62\n"
          ]
        }
      ]
    },
    {
      "cell_type": "markdown",
      "source": [
        "Найдем смещенную и несмещенную оценки дисперсий:"
      ],
      "metadata": {
        "id": "XtpPpbp3KwWD"
      }
    },
    {
      "cell_type": "code",
      "source": [
        "def biased_dispersion(x):\n",
        "    square_deviation = (x - x_mean) ** 2\n",
        "    return sum(square_deviation) / len(square_deviation)"
      ],
      "metadata": {
        "id": "X2NfrJthKJo0"
      },
      "execution_count": null,
      "outputs": []
    },
    {
      "cell_type": "code",
      "source": [
        "print(round(biased_dispersion(x), 2))"
      ],
      "metadata": {
        "colab": {
          "base_uri": "https://localhost:8080/"
        },
        "id": "ev88BgvIMImI",
        "outputId": "16e62c4a-4c93-48b8-80b8-4bc9e083d6f9"
      },
      "execution_count": null,
      "outputs": [
        {
          "output_type": "stream",
          "name": "stdout",
          "text": [
            "950.11\n"
          ]
        }
      ]
    },
    {
      "cell_type": "code",
      "source": [
        "def unbiased_dispersion(x):\n",
        "    square_deviation = (x - x_mean) ** 2\n",
        "    return sum(square_deviation) / (len(square_deviation) - 1)"
      ],
      "metadata": {
        "id": "1fjU3rHRMNI5"
      },
      "execution_count": null,
      "outputs": []
    },
    {
      "cell_type": "code",
      "source": [
        "print(round(unbiased_dispersion(x), 2))"
      ],
      "metadata": {
        "colab": {
          "base_uri": "https://localhost:8080/"
        },
        "id": "iNX49Pb2Maxl",
        "outputId": "1cbd9850-e6e9-410d-b402-34fa8e0d02bf"
      },
      "execution_count": null,
      "outputs": [
        {
          "output_type": "stream",
          "name": "stdout",
          "text": [
            "1000.12\n"
          ]
        }
      ]
    },
    {
      "cell_type": "markdown",
      "source": [
        "Задача 2. В первом ящике находится 8 мячей, из которых 5 - белые. Во втором ящике - 12 мячей, из которых 5 белых. Из первого ящика вытаскивают случайным образом два мяча, из второго - 4. Какова вероятность того, что 3 мяча белые?"
      ],
      "metadata": {
        "id": "206UPF1UMfBK"
      }
    },
    {
      "cell_type": "markdown",
      "source": [
        "C(nk) = n!/(k!*(n - k)!)\n",
        "\n",
        "P(A)=m/n"
      ],
      "metadata": {
        "id": "kj55rqVrzkw1"
      }
    },
    {
      "cell_type": "code",
      "source": [
        "def combinations (k,n):\n",
        "  return math.factorial(n)//(math.factorial(k)*math.factorial(n-k))"
      ],
      "metadata": {
        "id": "uBjTq3pgMldH"
      },
      "execution_count": null,
      "outputs": []
    },
    {
      "cell_type": "code",
      "source": [
        "n_1 = combinations(2, 8)\n",
        "n_2 = combinations(4, 12)"
      ],
      "metadata": {
        "id": "7hcRcUQszpDN"
      },
      "execution_count": null,
      "outputs": []
    },
    {
      "cell_type": "markdown",
      "source": [
        "События могут произойти 3-мя способами:\n",
        "1. Из первой корзины достанут 0 белых мячей и из второй 3 белых (0/3). Тогда из первой корзины достанут 2 черных (из 3 существующих), а из второй 1 черный (из 7 существующих) (2/1).\n",
        "2. 1/2, 1/2\n",
        "3. 2/1, 0/3"
      ],
      "metadata": {
        "id": "bzOlBEz-1ja-"
      }
    },
    {
      "cell_type": "code",
      "source": [
        "P_1 = (combinations(0, 5)*combinations(2, 3)/n_1)*(combinations(3, 5)*combinations(1, 7)/n_2)\n",
        "print(P_1)"
      ],
      "metadata": {
        "colab": {
          "base_uri": "https://localhost:8080/"
        },
        "id": "XQjFsbaX0ayx",
        "outputId": "c58c7dac-791d-479b-a42d-475697d8f978"
      },
      "execution_count": null,
      "outputs": [
        {
          "output_type": "stream",
          "name": "stdout",
          "text": [
            "0.01515151515151515\n"
          ]
        }
      ]
    },
    {
      "cell_type": "code",
      "source": [
        "P_2 = (combinations(1, 5)*combinations(1, 3)/n_1)*(combinations(2, 5)*combinations(2, 7)/n_2)\n",
        "print(P_2)"
      ],
      "metadata": {
        "colab": {
          "base_uri": "https://localhost:8080/"
        },
        "id": "WGZv4kz1-tTz",
        "outputId": "6aeee4d7-179e-464c-d91f-6ade58abf8ec"
      },
      "execution_count": null,
      "outputs": [
        {
          "output_type": "stream",
          "name": "stdout",
          "text": [
            "0.22727272727272727\n"
          ]
        }
      ]
    },
    {
      "cell_type": "code",
      "source": [
        "P_3 = (combinations(2, 5)*combinations(0, 3)/n_1)*(combinations(1, 5)*combinations(3, 7)/n_2)\n",
        "print(P_3)"
      ],
      "metadata": {
        "colab": {
          "base_uri": "https://localhost:8080/"
        },
        "id": "nzPwPrM9_pGi",
        "outputId": "73c4351c-707a-431a-b25c-fd4eeda0c0c7"
      },
      "execution_count": null,
      "outputs": [
        {
          "output_type": "stream",
          "name": "stdout",
          "text": [
            "0.12626262626262627\n"
          ]
        }
      ]
    },
    {
      "cell_type": "code",
      "source": [
        "P = P_1 + P_2 + P_3\n",
        "print(P*100)"
      ],
      "metadata": {
        "colab": {
          "base_uri": "https://localhost:8080/"
        },
        "id": "NZQYZUr8_ttp",
        "outputId": "08f03ee7-e5b9-457b-f0c7-74a54b6e299c"
      },
      "execution_count": null,
      "outputs": [
        {
          "output_type": "stream",
          "name": "stdout",
          "text": [
            "36.868686868686865\n"
          ]
        }
      ]
    },
    {
      "cell_type": "markdown",
      "source": [
        "Вероятность наступления данного события 36,87%."
      ],
      "metadata": {
        "id": "s-t_JATpAkOA"
      }
    },
    {
      "cell_type": "markdown",
      "source": [
        "Задача 3. На соревновании по биатлону один из трех спортсменов стреляет и попадает в мишень. Вероятность попадания для первого спортсмена равна 0.9, для второго — 0.8, для третьего — 0.6. Найти вероятность того, что выстрел произведен: a). первым спортсменом б). вторым спортсменом в). третьим спортсменом."
      ],
      "metadata": {
        "id": "9UIe3CKXDvbD"
      }
    },
    {
      "cell_type": "markdown",
      "source": [
        "Найдем вероятность поражения цели. P(B|A) = 1/3, т.к. каждый стрелок выстрелил по 1 разу (всего было 3 выстрела)"
      ],
      "metadata": {
        "id": "4HfFpkvyI42L"
      }
    },
    {
      "cell_type": "code",
      "source": [
        "PB = 1/3*0.9 + 1/3*0.8 + 1/3*0.6\n",
        "print(PB)"
      ],
      "metadata": {
        "colab": {
          "base_uri": "https://localhost:8080/"
        },
        "id": "b1acEmIgJSp9",
        "outputId": "9db7c5ea-ed65-41ba-de6f-31eb34513381"
      },
      "execution_count": null,
      "outputs": [
        {
          "output_type": "stream",
          "name": "stdout",
          "text": [
            "0.7666666666666666\n"
          ]
        }
      ]
    },
    {
      "cell_type": "markdown",
      "source": [
        "Для данной задачи воспользуемся формулой Байеса:\n",
        "P(A|B) = (P(B|A)*P(A))/P(B)\n",
        "\n",
        "Найдем вероятности для каждого спортсмена:"
      ],
      "metadata": {
        "id": "39bze3ZTFdYR"
      }
    },
    {
      "cell_type": "code",
      "source": [
        "P1 = (1/3*0.9)/PB\n",
        "print(P1)"
      ],
      "metadata": {
        "colab": {
          "base_uri": "https://localhost:8080/"
        },
        "id": "1HtPb8kiAH-F",
        "outputId": "70645ad9-b6e7-4cf8-87fa-d1b39f9060cb"
      },
      "execution_count": null,
      "outputs": [
        {
          "output_type": "stream",
          "name": "stdout",
          "text": [
            "0.391304347826087\n"
          ]
        }
      ]
    },
    {
      "cell_type": "code",
      "source": [
        "P2 = (1/3*0.8)/PB\n",
        "print(P2)"
      ],
      "metadata": {
        "colab": {
          "base_uri": "https://localhost:8080/"
        },
        "id": "Qhzosu3GIZlu",
        "outputId": "42ba0c52-1d7b-46e2-8d7e-ae12eea3283d"
      },
      "execution_count": null,
      "outputs": [
        {
          "output_type": "stream",
          "name": "stdout",
          "text": [
            "0.3478260869565218\n"
          ]
        }
      ]
    },
    {
      "cell_type": "code",
      "source": [
        "P3 = (1/3*0.6)/PB\n",
        "print(P3)"
      ],
      "metadata": {
        "colab": {
          "base_uri": "https://localhost:8080/"
        },
        "id": "CjzWH7NMIfRS",
        "outputId": "a7287c5b-f696-4556-94cf-7f1bd123b6b9"
      },
      "execution_count": null,
      "outputs": [
        {
          "output_type": "stream",
          "name": "stdout",
          "text": [
            "0.2608695652173913\n"
          ]
        }
      ]
    },
    {
      "cell_type": "code",
      "source": [
        "P = P1 + P2 + P3\n",
        "print(P)"
      ],
      "metadata": {
        "colab": {
          "base_uri": "https://localhost:8080/"
        },
        "id": "84vJkYYuIiyd",
        "outputId": "d882586c-f6b6-4cc3-b1b7-11a2258332fe"
      },
      "execution_count": null,
      "outputs": [
        {
          "output_type": "stream",
          "name": "stdout",
          "text": [
            "1.0\n"
          ]
        }
      ]
    },
    {
      "cell_type": "markdown",
      "source": [
        "Вкроятность того, что выстрел произвел первый спортсмен - 39%, второй - 35%, третий - 26%."
      ],
      "metadata": {
        "id": "7zH_PumAJ7mJ"
      }
    },
    {
      "cell_type": "markdown",
      "source": [
        "Задача 4. В университет на факультеты A и B поступило равное количество студентов, а на факультет C студентов поступило столько же, сколько на A и B вместе. Вероятность того, что студент факультета A сдаст первую сессию, равна 0.8. Для студента факультета B эта вероятность равна 0.7, а для студента факультета C - 0.9. Студент сдал первую сессию. Какова вероятность, что он учится: a). на факультете A б). на факультете B в). на факультете C?"
      ],
      "metadata": {
        "id": "7Drd1igNKPoq"
      }
    },
    {
      "cell_type": "markdown",
      "source": [
        "Используем ту же формулу Байеса, что и в предыдущей задаче. Для начала, найдем вероятность того, что сессия вообще сдана, т.е. P(B)"
      ],
      "metadata": {
        "id": "7LN-4LB6KrSY"
      }
    },
    {
      "cell_type": "code",
      "source": [
        "PB = 1/4*0.8 + 1/4*0.7 + 2/4*0.9\n",
        "print(PB)"
      ],
      "metadata": {
        "colab": {
          "base_uri": "https://localhost:8080/"
        },
        "id": "Mn9zAdZVJ2g7",
        "outputId": "0568c395-b37b-4837-a802-86c8638c1a15"
      },
      "execution_count": null,
      "outputs": [
        {
          "output_type": "stream",
          "name": "stdout",
          "text": [
            "0.825\n"
          ]
        }
      ]
    },
    {
      "cell_type": "code",
      "source": [
        "Pa = (1/4*0.8)/PB\n",
        "print(Pa)"
      ],
      "metadata": {
        "colab": {
          "base_uri": "https://localhost:8080/"
        },
        "id": "L1EKzn9RLCSX",
        "outputId": "6fc6079c-40c7-4625-e7ab-dbf139eb4290"
      },
      "execution_count": null,
      "outputs": [
        {
          "output_type": "stream",
          "name": "stdout",
          "text": [
            "0.24242424242424246\n"
          ]
        }
      ]
    },
    {
      "cell_type": "code",
      "source": [
        "Pb = (1/4*0.7)/PB\n",
        "print(Pb)"
      ],
      "metadata": {
        "colab": {
          "base_uri": "https://localhost:8080/"
        },
        "id": "S8pudGipLRoY",
        "outputId": "355758d5-7a26-4c75-b6c6-532493fceb22"
      },
      "execution_count": null,
      "outputs": [
        {
          "output_type": "stream",
          "name": "stdout",
          "text": [
            "0.21212121212121213\n"
          ]
        }
      ]
    },
    {
      "cell_type": "code",
      "source": [
        "Pc = (2/4*0.9)/PB\n",
        "print(Pc)"
      ],
      "metadata": {
        "colab": {
          "base_uri": "https://localhost:8080/"
        },
        "id": "4y6WPtU7LWrh",
        "outputId": "4ccee82e-a944-4a58-d7e1-8905e2d9a6fe"
      },
      "execution_count": null,
      "outputs": [
        {
          "output_type": "stream",
          "name": "stdout",
          "text": [
            "0.5454545454545455\n"
          ]
        }
      ]
    },
    {
      "cell_type": "code",
      "source": [
        "P = Pa + Pb + Pc\n",
        "print(P)"
      ],
      "metadata": {
        "colab": {
          "base_uri": "https://localhost:8080/"
        },
        "id": "fXE6t84KLcWc",
        "outputId": "6122d949-978b-48c3-b8d9-3303ffbfa690"
      },
      "execution_count": null,
      "outputs": [
        {
          "output_type": "stream",
          "name": "stdout",
          "text": [
            "1.0\n"
          ]
        }
      ]
    },
    {
      "cell_type": "markdown",
      "source": [
        "Если студент сдал сессию, вероятность того, что он учится на факультете A - 24%, на факультете B - 21%, на факультете С - 55%."
      ],
      "metadata": {
        "id": "ypRmwemFLocV"
      }
    },
    {
      "cell_type": "markdown",
      "source": [
        "Задача 5. Устройство состоит из трех деталей. Для первой детали вероятность выйти из строя в первый месяц равна 0.1, для второй - 0.2, для третьей - 0.25. Какова вероятность того, что в первый месяц выйдут из строя: а). все детали б). только две детали в). хотя бы одна деталь г). от одной до двух деталей?"
      ],
      "metadata": {
        "id": "kmI0v6aEMRyb"
      }
    },
    {
      "cell_type": "markdown",
      "source": [
        "Сформулируем в пригодный для решения вид:"
      ],
      "metadata": {
        "id": "Zx0twXI6NOg7"
      }
    },
    {
      "cell_type": "code",
      "source": [
        "p1 = 0.1\n",
        "q1 = 0.9\n",
        "p2 = 0.2\n",
        "q2 = 0.8\n",
        "p3 = 0.25\n",
        "q3 = 0.75"
      ],
      "metadata": {
        "id": "JOlSiHlBLkTV"
      },
      "execution_count": null,
      "outputs": []
    },
    {
      "cell_type": "markdown",
      "source": [
        "Вероятность того, что сломаются все детали:"
      ],
      "metadata": {
        "id": "4nDkfcQzPM-v"
      }
    },
    {
      "cell_type": "code",
      "source": [
        "P3 = p1*p2*p3\n",
        "print(f'{round(P3 * 100, 2)}%')"
      ],
      "metadata": {
        "colab": {
          "base_uri": "https://localhost:8080/"
        },
        "id": "Io-X5G4dPD7w",
        "outputId": "dc8464ed-9790-49f6-a4d0-dabf68fd347c"
      },
      "execution_count": null,
      "outputs": [
        {
          "output_type": "stream",
          "name": "stdout",
          "text": [
            "0.5%\n"
          ]
        }
      ]
    },
    {
      "cell_type": "markdown",
      "source": [
        "Вероятность того, что сломаются только 2 детали:"
      ],
      "metadata": {
        "id": "3nvJSSSIQE9-"
      }
    },
    {
      "cell_type": "code",
      "source": [
        "P2 = p1*p2*q3 + p1*q2*p3 + q1*p2*p3\n",
        "print(f'{round(P2 * 100, 2)}%')"
      ],
      "metadata": {
        "colab": {
          "base_uri": "https://localhost:8080/"
        },
        "id": "I1WRqDcvPeiy",
        "outputId": "0098e776-4c66-4bcf-b7eb-81b258392da5"
      },
      "execution_count": null,
      "outputs": [
        {
          "output_type": "stream",
          "name": "stdout",
          "text": [
            "8.0%\n"
          ]
        }
      ]
    },
    {
      "cell_type": "markdown",
      "source": [
        "Вероятность того, что сломается хотябы 1 деталь:"
      ],
      "metadata": {
        "id": "5dlvXCtXQeW2"
      }
    },
    {
      "cell_type": "code",
      "source": [
        "Q = q1*q2*q3\n",
        "P = 1 - Q\n",
        "print(f'{round(P * 100, 2)}%')"
      ],
      "metadata": {
        "colab": {
          "base_uri": "https://localhost:8080/"
        },
        "id": "0HoaYDUoQX0j",
        "outputId": "d145cdbc-02b0-4506-9e72-3edc895a6bef"
      },
      "execution_count": null,
      "outputs": [
        {
          "output_type": "stream",
          "name": "stdout",
          "text": [
            "46.0%\n"
          ]
        }
      ]
    },
    {
      "cell_type": "markdown",
      "source": [
        "Вероятность того, что сломается от одной до 2-х деталей:"
      ],
      "metadata": {
        "id": "I0wEm6DORPik"
      }
    },
    {
      "cell_type": "code",
      "source": [
        "P1 = p1*q2*q3 + q1*p2*q3 + q1*q2*p3\n",
        "P = P1 + P2\n",
        "print(f'{round(P * 100, 2)}%')"
      ],
      "metadata": {
        "colab": {
          "base_uri": "https://localhost:8080/"
        },
        "id": "5bS5co_oQu6K",
        "outputId": "ade51bbb-371b-402f-8a7d-1e8afb7954ce"
      },
      "execution_count": null,
      "outputs": [
        {
          "output_type": "stream",
          "name": "stdout",
          "text": [
            "45.5%\n"
          ]
        }
      ]
    }
  ]
}